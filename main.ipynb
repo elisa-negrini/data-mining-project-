{
 "cells": [
  {
   "cell_type": "markdown",
   "metadata": {},
   "source": [
    "# Data Mining Project\n",
    "This notebook demonstrates the data preprocessing and analysis steps for the Bike Rentals dataset in San Jose. The goal is to clean the data, extract relevant features, and perform exploratory data analysis to derive insights."
   ]
  },
  {
   "cell_type": "markdown",
   "metadata": {},
   "source": [
    "## Step 1: Import Libraries and Load Data\n",
    "In this step, we import the required Python libraries (like pandas) and load the datasets:\n",
    "- `data_trip`: Contains trip data (start and end dates, stations, etc.).\n",
    "- `data_weather`: Includes weather information during the trip period.\n",
    "- `data_station`: Provides details about bike stations."
   ]
  },
  {
   "cell_type": "code",
   "execution_count": 20,
   "metadata": {},
   "outputs": [],
   "source": [
    "import pandas as pd\n",
    "data_trip = pd.read_csv(r\"C:\\Users\\utente\\Desktop\\UNITN\\data mining\\data bike rentals san jose\\trip_data.csv\")\n",
    "data_weather = pd.read_csv(r\"C:\\Users\\utente\\Desktop\\UNITN\\data mining\\data bike rentals san jose\\weather_data.csv\")\n",
    "data_station = pd.read_csv(r\"C:\\Users\\utente\\Desktop\\UNITN\\data mining\\data bike rentals san jose\\station_data.csv\")"
   ]
  },
  {
   "cell_type": "markdown",
   "metadata": {},
   "source": [
    "## Step 2: Inspect the Data\n",
    "To understand the structure of the datasets, we display the first 5 rows and the number of rows in each dataset."
   ]
  },
  {
   "cell_type": "code",
   "execution_count": 21,
   "metadata": {},
   "outputs": [
    {
     "name": "stdout",
     "output_type": "stream",
     "text": [
      "   Trip ID        Start Date  Start Station          End Date  End Station  \\\n",
      "0   913460  31/08/2015 23:26             50  31/08/2015 23:39           70   \n",
      "1   913459  31/08/2015 23:11             31  31/08/2015 23:28           27   \n",
      "2   913455  31/08/2015 23:13             47  31/08/2015 23:18           64   \n",
      "3   913454  31/08/2015 23:10             10  31/08/2015 23:17            8   \n",
      "4   913453  31/08/2015 23:09             51  31/08/2015 23:22           60   \n",
      "\n",
      "  Subscriber Type  \n",
      "0      Subscriber  \n",
      "1      Subscriber  \n",
      "2      Subscriber  \n",
      "3      Subscriber  \n",
      "4        Customer  \n",
      "354152\n",
      "         Date  Max TemperatureF  Mean TemperatureF  Min TemperatureF  \\\n",
      "0  01/09/2014              83.0               70.0              57.0   \n",
      "1  02/09/2014              72.0               66.0              60.0   \n",
      "2  03/09/2014              76.0               69.0              61.0   \n",
      "3  04/09/2014              74.0               68.0              61.0   \n",
      "4  05/09/2014              72.0               66.0              60.0   \n",
      "\n",
      "   Max Dew PointF  MeanDew PointF  Min DewpointF  Max Humidity  Mean Humidity  \\\n",
      "0            58.0            56.0           52.0          86.0           64.0   \n",
      "1            58.0            57.0           55.0          84.0           73.0   \n",
      "2            57.0            56.0           55.0          84.0           69.0   \n",
      "3            57.0            57.0           56.0          84.0           71.0   \n",
      "4            57.0            56.0           54.0          84.0           71.0   \n",
      "\n",
      "   Min Humidity  ...  Mean VisibilityMiles  Min VisibilityMiles  \\\n",
      "0          42.0  ...                  10.0                  8.0   \n",
      "1          61.0  ...                  10.0                  7.0   \n",
      "2          53.0  ...                  10.0                 10.0   \n",
      "3          57.0  ...                  10.0                  8.0   \n",
      "4          57.0  ...                   9.0                  7.0   \n",
      "\n",
      "   Max Wind SpeedMPH  Mean Wind SpeedMPH  Max Gust SpeedMPH  PrecipitationIn  \\\n",
      "0               16.0                 7.0               20.0              0.0   \n",
      "1               21.0                 8.0                NaN              0.0   \n",
      "2               21.0                 8.0               24.0              0.0   \n",
      "3               22.0                 8.0               25.0              0.0   \n",
      "4               18.0                 8.0               32.0              0.0   \n",
      "\n",
      "   CloudCover  Events  WindDirDegrees    Zip  \n",
      "0         0.0     NaN           290.0  94107  \n",
      "1         5.0     NaN           290.0  94107  \n",
      "2         4.0     NaN           276.0  94107  \n",
      "3         5.0     NaN           301.0  94107  \n",
      "4         4.0     NaN           309.0  94107  \n",
      "\n",
      "[5 rows x 24 columns]\n",
      "1825\n",
      "   Id                               Name        Lat        Long  Dock Count  \\\n",
      "0   2  San Jose Diridon Caltrain Station  37.329732 -121.901782          27   \n",
      "1   3              San Jose Civic Center  37.330698 -121.888979          15   \n",
      "2   4             Santa Clara at Almaden  37.333988 -121.894902          11   \n",
      "3   5                   Adobe on Almaden  37.331415 -121.893200          19   \n",
      "4   6                   San Pedro Square  37.336721 -121.894074          15   \n",
      "\n",
      "       City  \n",
      "0  San Jose  \n",
      "1  San Jose  \n",
      "2  San Jose  \n",
      "3  San Jose  \n",
      "4  San Jose  \n",
      "76\n"
     ]
    }
   ],
   "source": [
    "print(data_trip.head(5))\n",
    "print(len(data_trip))\n",
    "\n",
    "print(data_weather.head(5))\n",
    "print(len(data_weather))\n",
    "\n",
    "print(data_station.head(5))\n",
    "print(len(data_station))"
   ]
  },
  {
   "cell_type": "code",
   "execution_count": 22,
   "metadata": {},
   "outputs": [
    {
     "name": "stdout",
     "output_type": "stream",
     "text": [
      "Index(['Trip ID', 'Start Date', 'Start Station', 'End Date', 'End Station',\n",
      "       'Subscriber Type'],\n",
      "      dtype='object')\n"
     ]
    }
   ],
   "source": [
    "print(data_trip.columns)\n"
   ]
  },
  {
   "cell_type": "markdown",
   "metadata": {},
   "source": [
    "## Step 3: Preprocessing Trip Data\n",
    "We process the `Start Date` and `End Date` columns to extract:\n",
    "- **Start_date**: The date when the trip started.\n",
    "- **Start_time**: The time when the trip started.\n",
    "- **End_date**: The date when the trip ended.\n",
    "- **End_time**: The time when the trip ended.\n",
    "The original `Start Date` and `End Date` columns are dropped after extraction."
   ]
  },
  {
   "cell_type": "code",
   "execution_count": 23,
   "metadata": {},
   "outputs": [],
   "source": [
    "# Substitute \"Start Date\" with \"Start_date\" and \"Start_time\" columns\n",
    "data_trip[\"Start Date\"] = pd.to_datetime(data_trip[\"Start Date\"], dayfirst=True)\n",
    "\n",
    "data_trip[\"Start_date\"] = data_trip[\"Start Date\"].dt.date\n",
    "data_trip[\"Start_time\"] = data_trip[\"Start Date\"].dt.time\n",
    "\n",
    "data_trip = data_trip.drop(columns=[\"Start Date\"])\n",
    "\n",
    "# Substitute \"End Date\" with \"End_date\" and \"End_time\" columns\n",
    "data_trip[\"End Date\"] = pd.to_datetime(data_trip[\"End Date\"], dayfirst=True)\n",
    "\n",
    "data_trip[\"End_date\"] = data_trip[\"End Date\"].dt.date\n",
    "data_trip[\"End_time\"] = data_trip[\"End Date\"].dt.time\n",
    "\n",
    "data_trip = data_trip.drop(columns=[\"End Date\"])"
   ]
  },
  {
   "cell_type": "markdown",
   "metadata": {},
   "source": [
    "## Step 6: Merging Datasets\n",
    "In this step, we combine the datasets to create a unified view:\n",
    "1. **Merge `data_trip` and `data_weather`:**\n",
    "   - Merge on `Start_date` from `data_trip` and `Date` from `data_weather`.\n",
    "   - Use an inner join to retain only matching rows.\n",
    "2. **Merge `merged_data` with `data_station`:**\n",
    "   - Merge on `Start Station` from `data_trip` and `Id` from `data_station`.\n",
    "   - Use an inner join to include station details.\n",
    "\n",
    "This process creates a combined dataset that links trips, weather data, and station information."
   ]
  },
  {
   "cell_type": "code",
   "execution_count": 24,
   "metadata": {},
   "outputs": [],
   "source": [
    "# Merge datasets data and data weather based on start_date\n",
    "data_trip[\"Start_date\"] = pd.to_datetime(data_trip[\"Start_date\"], dayfirst=True)\n",
    "data_weather[\"Date\"] = pd.to_datetime(data_weather[\"Date\"], dayfirst=True)\n",
    "\n",
    "merged_data = pd.merge(data_trip, data_weather, left_on=\"Start_date\", right_on=\"Date\", how=\"inner\")\n",
    "\n",
    "merged_data2 = pd.merge(merged_data, data_station[[\"Id\", \"Name\", \"City\"]], left_on=\"Start Station\", right_on=\"Id\", how=\"inner\")"
   ]
  },
  {
   "cell_type": "code",
   "execution_count": 29,
   "metadata": {},
   "outputs": [
    {
     "name": "stdout",
     "output_type": "stream",
     "text": [
      "Final dataset:\n",
      "   Trip ID  Start Station  End Station Subscriber Type Start_date Start_time  \\\n",
      "0   913460             50           70      Subscriber 2015-08-31   23:26:00   \n",
      "1   913460             50           70      Subscriber 2015-08-31   23:26:00   \n",
      "2   913460             50           70      Subscriber 2015-08-31   23:26:00   \n",
      "3   913460             50           70      Subscriber 2015-08-31   23:26:00   \n",
      "\n",
      "     End_date  End_time       Date  Max TemperatureF  ...  Mean Wind SpeedMPH  \\\n",
      "0  2015-08-31  23:39:00 2015-08-31              78.0  ...                 9.0   \n",
      "1  2015-08-31  23:39:00 2015-08-31              80.0  ...                 4.0   \n",
      "2  2015-08-31  23:39:00 2015-08-31              82.0  ...                 8.0   \n",
      "3  2015-08-31  23:39:00 2015-08-31              82.0  ...                 6.0   \n",
      "\n",
      "   Max Gust SpeedMPH  PrecipitationIn  CloudCover  Events  WindDirDegrees  \\\n",
      "0               21.0              0.0         1.0     NaN           246.0   \n",
      "1               20.0              0.0         0.0     NaN           282.0   \n",
      "2                NaN              0.0         0.0     NaN           357.0   \n",
      "3               25.0              0.0         0.0     NaN             6.0   \n",
      "\n",
      "     Zip  Id                                  Name           City  \n",
      "0  94107  50  Harry Bridges Plaza (Ferry Building)  San Francisco  \n",
      "1  94063  50  Harry Bridges Plaza (Ferry Building)  San Francisco  \n",
      "2  94301  50  Harry Bridges Plaza (Ferry Building)  San Francisco  \n",
      "3  94041  50  Harry Bridges Plaza (Ferry Building)  San Francisco  \n",
      "\n",
      "[4 rows x 35 columns] \n",
      "\n",
      "Columns of the final dataset:\n",
      "Index(['Trip ID', 'Start Station', 'End Station', 'Subscriber Type',\n",
      "       'Start_date', 'Start_time', 'End_date', 'End_time', 'Date',\n",
      "       'Max TemperatureF', 'Mean TemperatureF', 'Min TemperatureF',\n",
      "       'Max Dew PointF', 'MeanDew PointF', 'Min DewpointF', 'Max Humidity',\n",
      "       'Mean Humidity', 'Min Humidity', 'Max Sea Level PressureIn',\n",
      "       'Mean Sea Level PressureIn', 'Min Sea Level PressureIn',\n",
      "       'Max VisibilityMiles', 'Mean VisibilityMiles', 'Min VisibilityMiles',\n",
      "       'Max Wind SpeedMPH', 'Mean Wind SpeedMPH', 'Max Gust SpeedMPH',\n",
      "       'PrecipitationIn', 'CloudCover', 'Events', 'WindDirDegrees', 'Zip',\n",
      "       'Id', 'Name', 'City'],\n",
      "      dtype='object')\n",
      "City\n",
      "San Francisco    1605525\n",
      "San Jose           89780\n",
      "Mountain View      49995\n",
      "Palo Alto          15365\n",
      "Redwood City       10095\n",
      "Name: count, dtype: int64\n",
      "Subscriber Type\n",
      "Subscriber    1551085\n",
      "Customer       219675\n",
      "Name: count, dtype: int64\n",
      "1770760\n"
     ]
    }
   ],
   "source": [
    "print(\"Final dataset:\")\n",
    "print(merged_data2.head(4), \"\\n\")\n",
    "print(\"Columns of the final dataset:\")\n",
    "print(merged_data2.columns)\n",
    "print(merged_data2[\"City\"].value_counts())\n",
    "print(merged_data2[\"Subscriber Type\"].value_counts())\n",
    "print(len(merged_data2))"
   ]
  }
 ],
 "metadata": {
  "kernelspec": {
   "display_name": "Python 3",
   "language": "python",
   "name": "python3"
  },
  "language_info": {
   "codemirror_mode": {
    "name": "ipython",
    "version": 3
   },
   "file_extension": ".py",
   "mimetype": "text/x-python",
   "name": "python",
   "nbconvert_exporter": "python",
   "pygments_lexer": "ipython3",
   "version": "3.12.0"
  }
 },
 "nbformat": 4,
 "nbformat_minor": 2
}
