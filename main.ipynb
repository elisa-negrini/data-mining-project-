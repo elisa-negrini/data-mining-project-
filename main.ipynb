{
 "cells": [
  {
   "cell_type": "markdown",
   "metadata": {},
   "source": [
    "# Data Mining Project\n",
    "This notebook demonstrates the data preprocessing and analysis steps for the Bike Rentals dataset in San Jose. The goal is to clean the data, extract relevant features, and perform exploratory data analysis to derive insights."
   ]
  },
  {
   "cell_type": "markdown",
   "metadata": {},
   "source": [
    "## Step 1: Import Libraries and Load Data\n",
    "In this step, we import the required Python libraries (like pandas) and load the datasets:\n",
    "- `data_trip`: Contains trip data (start and end dates, stations, etc.).\n",
    "- `data_weather`: Includes weather information during the trip period.\n",
    "- `data_station`: Provides details about bike stations."
   ]
  },
  {
   "cell_type": "code",
   "execution_count": 1,
   "metadata": {},
   "outputs": [
    {
     "ename": "FileNotFoundError",
     "evalue": "[Errno 2] No such file or directory: 'C:\\\\Users\\\\utente\\\\Desktop\\\\UNITN\\\\data mining\\\\data bike rentals san jose\\\\trip_data.csv'",
     "output_type": "error",
     "traceback": [
      "\u001b[1;31m---------------------------------------------------------------------------\u001b[0m",
      "\u001b[1;31mFileNotFoundError\u001b[0m                         Traceback (most recent call last)",
      "Cell \u001b[1;32mIn[1], line 2\u001b[0m\n\u001b[0;32m      1\u001b[0m \u001b[38;5;28;01mimport\u001b[39;00m \u001b[38;5;21;01mpandas\u001b[39;00m \u001b[38;5;28;01mas\u001b[39;00m \u001b[38;5;21;01mpd\u001b[39;00m\n\u001b[1;32m----> 2\u001b[0m data_trip \u001b[38;5;241m=\u001b[39m \u001b[43mpd\u001b[49m\u001b[38;5;241;43m.\u001b[39;49m\u001b[43mread_csv\u001b[49m\u001b[43m(\u001b[49m\u001b[38;5;124;43mr\u001b[39;49m\u001b[38;5;124;43m\"\u001b[39;49m\u001b[38;5;124;43mC:\u001b[39;49m\u001b[38;5;124;43m\\\u001b[39;49m\u001b[38;5;124;43mUsers\u001b[39;49m\u001b[38;5;124;43m\\\u001b[39;49m\u001b[38;5;124;43mutente\u001b[39;49m\u001b[38;5;124;43m\\\u001b[39;49m\u001b[38;5;124;43mDesktop\u001b[39;49m\u001b[38;5;124;43m\\\u001b[39;49m\u001b[38;5;124;43mUNITN\u001b[39;49m\u001b[38;5;124;43m\\\u001b[39;49m\u001b[38;5;124;43mdata mining\u001b[39;49m\u001b[38;5;124;43m\\\u001b[39;49m\u001b[38;5;124;43mdata bike rentals san jose\u001b[39;49m\u001b[38;5;124;43m\\\u001b[39;49m\u001b[38;5;124;43mtrip_data.csv\u001b[39;49m\u001b[38;5;124;43m\"\u001b[39;49m\u001b[43m)\u001b[49m\n\u001b[0;32m      3\u001b[0m data_weather \u001b[38;5;241m=\u001b[39m pd\u001b[38;5;241m.\u001b[39mread_csv(\u001b[38;5;124mr\u001b[39m\u001b[38;5;124m\"\u001b[39m\u001b[38;5;124mC:\u001b[39m\u001b[38;5;124m\\\u001b[39m\u001b[38;5;124mUsers\u001b[39m\u001b[38;5;124m\\\u001b[39m\u001b[38;5;124mutente\u001b[39m\u001b[38;5;124m\\\u001b[39m\u001b[38;5;124mDesktop\u001b[39m\u001b[38;5;124m\\\u001b[39m\u001b[38;5;124mUNITN\u001b[39m\u001b[38;5;124m\\\u001b[39m\u001b[38;5;124mdata mining\u001b[39m\u001b[38;5;124m\\\u001b[39m\u001b[38;5;124mdata bike rentals san jose\u001b[39m\u001b[38;5;124m\\\u001b[39m\u001b[38;5;124mweather_data.csv\u001b[39m\u001b[38;5;124m\"\u001b[39m)\n\u001b[0;32m      4\u001b[0m data_station \u001b[38;5;241m=\u001b[39m pd\u001b[38;5;241m.\u001b[39mread_csv(\u001b[38;5;124mr\u001b[39m\u001b[38;5;124m\"\u001b[39m\u001b[38;5;124mC:\u001b[39m\u001b[38;5;124m\\\u001b[39m\u001b[38;5;124mUsers\u001b[39m\u001b[38;5;124m\\\u001b[39m\u001b[38;5;124mutente\u001b[39m\u001b[38;5;124m\\\u001b[39m\u001b[38;5;124mDesktop\u001b[39m\u001b[38;5;124m\\\u001b[39m\u001b[38;5;124mUNITN\u001b[39m\u001b[38;5;124m\\\u001b[39m\u001b[38;5;124mdata mining\u001b[39m\u001b[38;5;124m\\\u001b[39m\u001b[38;5;124mdata bike rentals san jose\u001b[39m\u001b[38;5;124m\\\u001b[39m\u001b[38;5;124mstation_data.csv\u001b[39m\u001b[38;5;124m\"\u001b[39m)\n",
      "File \u001b[1;32mc:\\Users\\utente\\AppData\\Local\\Programs\\Python\\Python312\\Lib\\site-packages\\pandas\\io\\parsers\\readers.py:1026\u001b[0m, in \u001b[0;36mread_csv\u001b[1;34m(filepath_or_buffer, sep, delimiter, header, names, index_col, usecols, dtype, engine, converters, true_values, false_values, skipinitialspace, skiprows, skipfooter, nrows, na_values, keep_default_na, na_filter, verbose, skip_blank_lines, parse_dates, infer_datetime_format, keep_date_col, date_parser, date_format, dayfirst, cache_dates, iterator, chunksize, compression, thousands, decimal, lineterminator, quotechar, quoting, doublequote, escapechar, comment, encoding, encoding_errors, dialect, on_bad_lines, delim_whitespace, low_memory, memory_map, float_precision, storage_options, dtype_backend)\u001b[0m\n\u001b[0;32m   1013\u001b[0m kwds_defaults \u001b[38;5;241m=\u001b[39m _refine_defaults_read(\n\u001b[0;32m   1014\u001b[0m     dialect,\n\u001b[0;32m   1015\u001b[0m     delimiter,\n\u001b[1;32m   (...)\u001b[0m\n\u001b[0;32m   1022\u001b[0m     dtype_backend\u001b[38;5;241m=\u001b[39mdtype_backend,\n\u001b[0;32m   1023\u001b[0m )\n\u001b[0;32m   1024\u001b[0m kwds\u001b[38;5;241m.\u001b[39mupdate(kwds_defaults)\n\u001b[1;32m-> 1026\u001b[0m \u001b[38;5;28;01mreturn\u001b[39;00m \u001b[43m_read\u001b[49m\u001b[43m(\u001b[49m\u001b[43mfilepath_or_buffer\u001b[49m\u001b[43m,\u001b[49m\u001b[43m \u001b[49m\u001b[43mkwds\u001b[49m\u001b[43m)\u001b[49m\n",
      "File \u001b[1;32mc:\\Users\\utente\\AppData\\Local\\Programs\\Python\\Python312\\Lib\\site-packages\\pandas\\io\\parsers\\readers.py:620\u001b[0m, in \u001b[0;36m_read\u001b[1;34m(filepath_or_buffer, kwds)\u001b[0m\n\u001b[0;32m    617\u001b[0m _validate_names(kwds\u001b[38;5;241m.\u001b[39mget(\u001b[38;5;124m\"\u001b[39m\u001b[38;5;124mnames\u001b[39m\u001b[38;5;124m\"\u001b[39m, \u001b[38;5;28;01mNone\u001b[39;00m))\n\u001b[0;32m    619\u001b[0m \u001b[38;5;66;03m# Create the parser.\u001b[39;00m\n\u001b[1;32m--> 620\u001b[0m parser \u001b[38;5;241m=\u001b[39m \u001b[43mTextFileReader\u001b[49m\u001b[43m(\u001b[49m\u001b[43mfilepath_or_buffer\u001b[49m\u001b[43m,\u001b[49m\u001b[43m \u001b[49m\u001b[38;5;241;43m*\u001b[39;49m\u001b[38;5;241;43m*\u001b[39;49m\u001b[43mkwds\u001b[49m\u001b[43m)\u001b[49m\n\u001b[0;32m    622\u001b[0m \u001b[38;5;28;01mif\u001b[39;00m chunksize \u001b[38;5;129;01mor\u001b[39;00m iterator:\n\u001b[0;32m    623\u001b[0m     \u001b[38;5;28;01mreturn\u001b[39;00m parser\n",
      "File \u001b[1;32mc:\\Users\\utente\\AppData\\Local\\Programs\\Python\\Python312\\Lib\\site-packages\\pandas\\io\\parsers\\readers.py:1620\u001b[0m, in \u001b[0;36mTextFileReader.__init__\u001b[1;34m(self, f, engine, **kwds)\u001b[0m\n\u001b[0;32m   1617\u001b[0m     \u001b[38;5;28mself\u001b[39m\u001b[38;5;241m.\u001b[39moptions[\u001b[38;5;124m\"\u001b[39m\u001b[38;5;124mhas_index_names\u001b[39m\u001b[38;5;124m\"\u001b[39m] \u001b[38;5;241m=\u001b[39m kwds[\u001b[38;5;124m\"\u001b[39m\u001b[38;5;124mhas_index_names\u001b[39m\u001b[38;5;124m\"\u001b[39m]\n\u001b[0;32m   1619\u001b[0m \u001b[38;5;28mself\u001b[39m\u001b[38;5;241m.\u001b[39mhandles: IOHandles \u001b[38;5;241m|\u001b[39m \u001b[38;5;28;01mNone\u001b[39;00m \u001b[38;5;241m=\u001b[39m \u001b[38;5;28;01mNone\u001b[39;00m\n\u001b[1;32m-> 1620\u001b[0m \u001b[38;5;28mself\u001b[39m\u001b[38;5;241m.\u001b[39m_engine \u001b[38;5;241m=\u001b[39m \u001b[38;5;28;43mself\u001b[39;49m\u001b[38;5;241;43m.\u001b[39;49m\u001b[43m_make_engine\u001b[49m\u001b[43m(\u001b[49m\u001b[43mf\u001b[49m\u001b[43m,\u001b[49m\u001b[43m \u001b[49m\u001b[38;5;28;43mself\u001b[39;49m\u001b[38;5;241;43m.\u001b[39;49m\u001b[43mengine\u001b[49m\u001b[43m)\u001b[49m\n",
      "File \u001b[1;32mc:\\Users\\utente\\AppData\\Local\\Programs\\Python\\Python312\\Lib\\site-packages\\pandas\\io\\parsers\\readers.py:1880\u001b[0m, in \u001b[0;36mTextFileReader._make_engine\u001b[1;34m(self, f, engine)\u001b[0m\n\u001b[0;32m   1878\u001b[0m     \u001b[38;5;28;01mif\u001b[39;00m \u001b[38;5;124m\"\u001b[39m\u001b[38;5;124mb\u001b[39m\u001b[38;5;124m\"\u001b[39m \u001b[38;5;129;01mnot\u001b[39;00m \u001b[38;5;129;01min\u001b[39;00m mode:\n\u001b[0;32m   1879\u001b[0m         mode \u001b[38;5;241m+\u001b[39m\u001b[38;5;241m=\u001b[39m \u001b[38;5;124m\"\u001b[39m\u001b[38;5;124mb\u001b[39m\u001b[38;5;124m\"\u001b[39m\n\u001b[1;32m-> 1880\u001b[0m \u001b[38;5;28mself\u001b[39m\u001b[38;5;241m.\u001b[39mhandles \u001b[38;5;241m=\u001b[39m \u001b[43mget_handle\u001b[49m\u001b[43m(\u001b[49m\n\u001b[0;32m   1881\u001b[0m \u001b[43m    \u001b[49m\u001b[43mf\u001b[49m\u001b[43m,\u001b[49m\n\u001b[0;32m   1882\u001b[0m \u001b[43m    \u001b[49m\u001b[43mmode\u001b[49m\u001b[43m,\u001b[49m\n\u001b[0;32m   1883\u001b[0m \u001b[43m    \u001b[49m\u001b[43mencoding\u001b[49m\u001b[38;5;241;43m=\u001b[39;49m\u001b[38;5;28;43mself\u001b[39;49m\u001b[38;5;241;43m.\u001b[39;49m\u001b[43moptions\u001b[49m\u001b[38;5;241;43m.\u001b[39;49m\u001b[43mget\u001b[49m\u001b[43m(\u001b[49m\u001b[38;5;124;43m\"\u001b[39;49m\u001b[38;5;124;43mencoding\u001b[39;49m\u001b[38;5;124;43m\"\u001b[39;49m\u001b[43m,\u001b[49m\u001b[43m \u001b[49m\u001b[38;5;28;43;01mNone\u001b[39;49;00m\u001b[43m)\u001b[49m\u001b[43m,\u001b[49m\n\u001b[0;32m   1884\u001b[0m \u001b[43m    \u001b[49m\u001b[43mcompression\u001b[49m\u001b[38;5;241;43m=\u001b[39;49m\u001b[38;5;28;43mself\u001b[39;49m\u001b[38;5;241;43m.\u001b[39;49m\u001b[43moptions\u001b[49m\u001b[38;5;241;43m.\u001b[39;49m\u001b[43mget\u001b[49m\u001b[43m(\u001b[49m\u001b[38;5;124;43m\"\u001b[39;49m\u001b[38;5;124;43mcompression\u001b[39;49m\u001b[38;5;124;43m\"\u001b[39;49m\u001b[43m,\u001b[49m\u001b[43m \u001b[49m\u001b[38;5;28;43;01mNone\u001b[39;49;00m\u001b[43m)\u001b[49m\u001b[43m,\u001b[49m\n\u001b[0;32m   1885\u001b[0m \u001b[43m    \u001b[49m\u001b[43mmemory_map\u001b[49m\u001b[38;5;241;43m=\u001b[39;49m\u001b[38;5;28;43mself\u001b[39;49m\u001b[38;5;241;43m.\u001b[39;49m\u001b[43moptions\u001b[49m\u001b[38;5;241;43m.\u001b[39;49m\u001b[43mget\u001b[49m\u001b[43m(\u001b[49m\u001b[38;5;124;43m\"\u001b[39;49m\u001b[38;5;124;43mmemory_map\u001b[39;49m\u001b[38;5;124;43m\"\u001b[39;49m\u001b[43m,\u001b[49m\u001b[43m \u001b[49m\u001b[38;5;28;43;01mFalse\u001b[39;49;00m\u001b[43m)\u001b[49m\u001b[43m,\u001b[49m\n\u001b[0;32m   1886\u001b[0m \u001b[43m    \u001b[49m\u001b[43mis_text\u001b[49m\u001b[38;5;241;43m=\u001b[39;49m\u001b[43mis_text\u001b[49m\u001b[43m,\u001b[49m\n\u001b[0;32m   1887\u001b[0m \u001b[43m    \u001b[49m\u001b[43merrors\u001b[49m\u001b[38;5;241;43m=\u001b[39;49m\u001b[38;5;28;43mself\u001b[39;49m\u001b[38;5;241;43m.\u001b[39;49m\u001b[43moptions\u001b[49m\u001b[38;5;241;43m.\u001b[39;49m\u001b[43mget\u001b[49m\u001b[43m(\u001b[49m\u001b[38;5;124;43m\"\u001b[39;49m\u001b[38;5;124;43mencoding_errors\u001b[39;49m\u001b[38;5;124;43m\"\u001b[39;49m\u001b[43m,\u001b[49m\u001b[43m \u001b[49m\u001b[38;5;124;43m\"\u001b[39;49m\u001b[38;5;124;43mstrict\u001b[39;49m\u001b[38;5;124;43m\"\u001b[39;49m\u001b[43m)\u001b[49m\u001b[43m,\u001b[49m\n\u001b[0;32m   1888\u001b[0m \u001b[43m    \u001b[49m\u001b[43mstorage_options\u001b[49m\u001b[38;5;241;43m=\u001b[39;49m\u001b[38;5;28;43mself\u001b[39;49m\u001b[38;5;241;43m.\u001b[39;49m\u001b[43moptions\u001b[49m\u001b[38;5;241;43m.\u001b[39;49m\u001b[43mget\u001b[49m\u001b[43m(\u001b[49m\u001b[38;5;124;43m\"\u001b[39;49m\u001b[38;5;124;43mstorage_options\u001b[39;49m\u001b[38;5;124;43m\"\u001b[39;49m\u001b[43m,\u001b[49m\u001b[43m \u001b[49m\u001b[38;5;28;43;01mNone\u001b[39;49;00m\u001b[43m)\u001b[49m\u001b[43m,\u001b[49m\n\u001b[0;32m   1889\u001b[0m \u001b[43m\u001b[49m\u001b[43m)\u001b[49m\n\u001b[0;32m   1890\u001b[0m \u001b[38;5;28;01massert\u001b[39;00m \u001b[38;5;28mself\u001b[39m\u001b[38;5;241m.\u001b[39mhandles \u001b[38;5;129;01mis\u001b[39;00m \u001b[38;5;129;01mnot\u001b[39;00m \u001b[38;5;28;01mNone\u001b[39;00m\n\u001b[0;32m   1891\u001b[0m f \u001b[38;5;241m=\u001b[39m \u001b[38;5;28mself\u001b[39m\u001b[38;5;241m.\u001b[39mhandles\u001b[38;5;241m.\u001b[39mhandle\n",
      "File \u001b[1;32mc:\\Users\\utente\\AppData\\Local\\Programs\\Python\\Python312\\Lib\\site-packages\\pandas\\io\\common.py:873\u001b[0m, in \u001b[0;36mget_handle\u001b[1;34m(path_or_buf, mode, encoding, compression, memory_map, is_text, errors, storage_options)\u001b[0m\n\u001b[0;32m    868\u001b[0m \u001b[38;5;28;01melif\u001b[39;00m \u001b[38;5;28misinstance\u001b[39m(handle, \u001b[38;5;28mstr\u001b[39m):\n\u001b[0;32m    869\u001b[0m     \u001b[38;5;66;03m# Check whether the filename is to be opened in binary mode.\u001b[39;00m\n\u001b[0;32m    870\u001b[0m     \u001b[38;5;66;03m# Binary mode does not support 'encoding' and 'newline'.\u001b[39;00m\n\u001b[0;32m    871\u001b[0m     \u001b[38;5;28;01mif\u001b[39;00m ioargs\u001b[38;5;241m.\u001b[39mencoding \u001b[38;5;129;01mand\u001b[39;00m \u001b[38;5;124m\"\u001b[39m\u001b[38;5;124mb\u001b[39m\u001b[38;5;124m\"\u001b[39m \u001b[38;5;129;01mnot\u001b[39;00m \u001b[38;5;129;01min\u001b[39;00m ioargs\u001b[38;5;241m.\u001b[39mmode:\n\u001b[0;32m    872\u001b[0m         \u001b[38;5;66;03m# Encoding\u001b[39;00m\n\u001b[1;32m--> 873\u001b[0m         handle \u001b[38;5;241m=\u001b[39m \u001b[38;5;28;43mopen\u001b[39;49m\u001b[43m(\u001b[49m\n\u001b[0;32m    874\u001b[0m \u001b[43m            \u001b[49m\u001b[43mhandle\u001b[49m\u001b[43m,\u001b[49m\n\u001b[0;32m    875\u001b[0m \u001b[43m            \u001b[49m\u001b[43mioargs\u001b[49m\u001b[38;5;241;43m.\u001b[39;49m\u001b[43mmode\u001b[49m\u001b[43m,\u001b[49m\n\u001b[0;32m    876\u001b[0m \u001b[43m            \u001b[49m\u001b[43mencoding\u001b[49m\u001b[38;5;241;43m=\u001b[39;49m\u001b[43mioargs\u001b[49m\u001b[38;5;241;43m.\u001b[39;49m\u001b[43mencoding\u001b[49m\u001b[43m,\u001b[49m\n\u001b[0;32m    877\u001b[0m \u001b[43m            \u001b[49m\u001b[43merrors\u001b[49m\u001b[38;5;241;43m=\u001b[39;49m\u001b[43merrors\u001b[49m\u001b[43m,\u001b[49m\n\u001b[0;32m    878\u001b[0m \u001b[43m            \u001b[49m\u001b[43mnewline\u001b[49m\u001b[38;5;241;43m=\u001b[39;49m\u001b[38;5;124;43m\"\u001b[39;49m\u001b[38;5;124;43m\"\u001b[39;49m\u001b[43m,\u001b[49m\n\u001b[0;32m    879\u001b[0m \u001b[43m        \u001b[49m\u001b[43m)\u001b[49m\n\u001b[0;32m    880\u001b[0m     \u001b[38;5;28;01melse\u001b[39;00m:\n\u001b[0;32m    881\u001b[0m         \u001b[38;5;66;03m# Binary mode\u001b[39;00m\n\u001b[0;32m    882\u001b[0m         handle \u001b[38;5;241m=\u001b[39m \u001b[38;5;28mopen\u001b[39m(handle, ioargs\u001b[38;5;241m.\u001b[39mmode)\n",
      "\u001b[1;31mFileNotFoundError\u001b[0m: [Errno 2] No such file or directory: 'C:\\\\Users\\\\utente\\\\Desktop\\\\UNITN\\\\data mining\\\\data bike rentals san jose\\\\trip_data.csv'"
     ]
    }
   ],
   "source": [
    "import pandas as pd\n",
    "data_trip = pd.read_csv(r\"C:\\Users\\utente\\Desktop\\UNITN\\data mining\\data bike rentals san jose\\trip_data.csv\")\n",
    "data_weather = pd.read_csv(r\"C:\\Users\\utente\\Desktop\\UNITN\\data mining\\data bike rentals san jose\\weather_data.csv\")\n",
    "data_station = pd.read_csv(r\"C:\\Users\\utente\\Desktop\\UNITN\\data mining\\data bike rentals san jose\\station_data.csv\")"
   ]
  },
  {
   "cell_type": "markdown",
   "metadata": {},
   "source": [
    "## Step 2: Inspect the Data\n",
    "To understand the structure of the datasets, we display the first 5 rows and the number of rows in each dataset."
   ]
  },
  {
   "cell_type": "code",
   "execution_count": 21,
   "metadata": {},
   "outputs": [
    {
     "name": "stdout",
     "output_type": "stream",
     "text": [
      "   Trip ID        Start Date  Start Station          End Date  End Station  \\\n",
      "0   913460  31/08/2015 23:26             50  31/08/2015 23:39           70   \n",
      "1   913459  31/08/2015 23:11             31  31/08/2015 23:28           27   \n",
      "2   913455  31/08/2015 23:13             47  31/08/2015 23:18           64   \n",
      "3   913454  31/08/2015 23:10             10  31/08/2015 23:17            8   \n",
      "4   913453  31/08/2015 23:09             51  31/08/2015 23:22           60   \n",
      "\n",
      "  Subscriber Type  \n",
      "0      Subscriber  \n",
      "1      Subscriber  \n",
      "2      Subscriber  \n",
      "3      Subscriber  \n",
      "4        Customer  \n",
      "354152\n",
      "         Date  Max TemperatureF  Mean TemperatureF  Min TemperatureF  \\\n",
      "0  01/09/2014              83.0               70.0              57.0   \n",
      "1  02/09/2014              72.0               66.0              60.0   \n",
      "2  03/09/2014              76.0               69.0              61.0   \n",
      "3  04/09/2014              74.0               68.0              61.0   \n",
      "4  05/09/2014              72.0               66.0              60.0   \n",
      "\n",
      "   Max Dew PointF  MeanDew PointF  Min DewpointF  Max Humidity  Mean Humidity  \\\n",
      "0            58.0            56.0           52.0          86.0           64.0   \n",
      "1            58.0            57.0           55.0          84.0           73.0   \n",
      "2            57.0            56.0           55.0          84.0           69.0   \n",
      "3            57.0            57.0           56.0          84.0           71.0   \n",
      "4            57.0            56.0           54.0          84.0           71.0   \n",
      "\n",
      "   Min Humidity  ...  Mean VisibilityMiles  Min VisibilityMiles  \\\n",
      "0          42.0  ...                  10.0                  8.0   \n",
      "1          61.0  ...                  10.0                  7.0   \n",
      "2          53.0  ...                  10.0                 10.0   \n",
      "3          57.0  ...                  10.0                  8.0   \n",
      "4          57.0  ...                   9.0                  7.0   \n",
      "\n",
      "   Max Wind SpeedMPH  Mean Wind SpeedMPH  Max Gust SpeedMPH  PrecipitationIn  \\\n",
      "0               16.0                 7.0               20.0              0.0   \n",
      "1               21.0                 8.0                NaN              0.0   \n",
      "2               21.0                 8.0               24.0              0.0   \n",
      "3               22.0                 8.0               25.0              0.0   \n",
      "4               18.0                 8.0               32.0              0.0   \n",
      "\n",
      "   CloudCover  Events  WindDirDegrees    Zip  \n",
      "0         0.0     NaN           290.0  94107  \n",
      "1         5.0     NaN           290.0  94107  \n",
      "2         4.0     NaN           276.0  94107  \n",
      "3         5.0     NaN           301.0  94107  \n",
      "4         4.0     NaN           309.0  94107  \n",
      "\n",
      "[5 rows x 24 columns]\n",
      "1825\n",
      "   Id                               Name        Lat        Long  Dock Count  \\\n",
      "0   2  San Jose Diridon Caltrain Station  37.329732 -121.901782          27   \n",
      "1   3              San Jose Civic Center  37.330698 -121.888979          15   \n",
      "2   4             Santa Clara at Almaden  37.333988 -121.894902          11   \n",
      "3   5                   Adobe on Almaden  37.331415 -121.893200          19   \n",
      "4   6                   San Pedro Square  37.336721 -121.894074          15   \n",
      "\n",
      "       City  \n",
      "0  San Jose  \n",
      "1  San Jose  \n",
      "2  San Jose  \n",
      "3  San Jose  \n",
      "4  San Jose  \n",
      "76\n"
     ]
    }
   ],
   "source": [
    "print(data_trip.head(5))\n",
    "print(len(data_trip))\n",
    "\n",
    "print(data_weather.head(5))\n",
    "print(len(data_weather))\n",
    "\n",
    "print(data_station.head(5))\n",
    "print(len(data_station))"
   ]
  },
  {
   "cell_type": "code",
   "execution_count": 22,
   "metadata": {},
   "outputs": [
    {
     "name": "stdout",
     "output_type": "stream",
     "text": [
      "Index(['Trip ID', 'Start Date', 'Start Station', 'End Date', 'End Station',\n",
      "       'Subscriber Type'],\n",
      "      dtype='object')\n"
     ]
    }
   ],
   "source": [
    "print(data_trip.columns)\n"
   ]
  },
  {
   "cell_type": "markdown",
   "metadata": {},
   "source": [
    "## Step 3: Preprocessing Trip Data\n",
    "We process the `Start Date` and `End Date` columns to extract:\n",
    "- **Start_date**: The date when the trip started.\n",
    "- **Start_time**: The time when the trip started.\n",
    "- **End_date**: The date when the trip ended.\n",
    "- **End_time**: The time when the trip ended.\n",
    "The original `Start Date` and `End Date` columns are dropped after extraction."
   ]
  },
  {
   "cell_type": "code",
   "execution_count": 23,
   "metadata": {},
   "outputs": [],
   "source": [
    "# Substitute \"Start Date\" with \"Start_date\" and \"Start_time\" columns\n",
    "data_trip[\"Start Date\"] = pd.to_datetime(data_trip[\"Start Date\"], dayfirst=True)\n",
    "\n",
    "data_trip[\"Start_date\"] = data_trip[\"Start Date\"].dt.date\n",
    "data_trip[\"Start_time\"] = data_trip[\"Start Date\"].dt.time\n",
    "\n",
    "data_trip = data_trip.drop(columns=[\"Start Date\"])\n",
    "\n",
    "# Substitute \"End Date\" with \"End_date\" and \"End_time\" columns\n",
    "data_trip[\"End Date\"] = pd.to_datetime(data_trip[\"End Date\"], dayfirst=True)\n",
    "\n",
    "data_trip[\"End_date\"] = data_trip[\"End Date\"].dt.date\n",
    "data_trip[\"End_time\"] = data_trip[\"End Date\"].dt.time\n",
    "\n",
    "data_trip = data_trip.drop(columns=[\"End Date\"])"
   ]
  },
  {
   "cell_type": "markdown",
   "metadata": {},
   "source": [
    "## Step 6: Merging Datasets\n",
    "In this step, we combine the datasets to create a unified view:\n",
    "1. **Merge `data_trip` and `data_weather`:**\n",
    "   - Merge on `Start_date` from `data_trip` and `Date` from `data_weather`.\n",
    "   - Use an inner join to retain only matching rows.\n",
    "2. **Merge `merged_data` with `data_station`:**\n",
    "   - Merge on `Start Station` from `data_trip` and `Id` from `data_station`.\n",
    "   - Use an inner join to include station details.\n",
    "\n",
    "This process creates a combined dataset that links trips, weather data, and station information."
   ]
  },
  {
   "cell_type": "code",
   "execution_count": 24,
   "metadata": {},
   "outputs": [],
   "source": [
    "# Merge datasets data and data weather based on start_date\n",
    "data_trip[\"Start_date\"] = pd.to_datetime(data_trip[\"Start_date\"], dayfirst=True)\n",
    "data_weather[\"Date\"] = pd.to_datetime(data_weather[\"Date\"], dayfirst=True)\n",
    "\n",
    "merged_data = pd.merge(data_trip, data_weather, left_on=\"Start_date\", right_on=\"Date\", \n",
    "                       how=\"inner\")\n",
    "\n",
    "merged_data2 = pd.merge(merged_data, data_station[[\"Id\", \"Name\", \"City\"]], \n",
    "                        left_on=\"Start Station\", right_on=\"Id\", how=\"inner\")"
   ]
  },
  {
   "cell_type": "code",
   "execution_count": 29,
   "metadata": {},
   "outputs": [
    {
     "name": "stdout",
     "output_type": "stream",
     "text": [
      "Final dataset:\n",
      "   Trip ID  Start Station  End Station Subscriber Type Start_date Start_time  \\\n",
      "0   913460             50           70      Subscriber 2015-08-31   23:26:00   \n",
      "1   913460             50           70      Subscriber 2015-08-31   23:26:00   \n",
      "2   913460             50           70      Subscriber 2015-08-31   23:26:00   \n",
      "3   913460             50           70      Subscriber 2015-08-31   23:26:00   \n",
      "\n",
      "     End_date  End_time       Date  Max TemperatureF  ...  Mean Wind SpeedMPH  \\\n",
      "0  2015-08-31  23:39:00 2015-08-31              78.0  ...                 9.0   \n",
      "1  2015-08-31  23:39:00 2015-08-31              80.0  ...                 4.0   \n",
      "2  2015-08-31  23:39:00 2015-08-31              82.0  ...                 8.0   \n",
      "3  2015-08-31  23:39:00 2015-08-31              82.0  ...                 6.0   \n",
      "\n",
      "   Max Gust SpeedMPH  PrecipitationIn  CloudCover  Events  WindDirDegrees  \\\n",
      "0               21.0              0.0         1.0     NaN           246.0   \n",
      "1               20.0              0.0         0.0     NaN           282.0   \n",
      "2                NaN              0.0         0.0     NaN           357.0   \n",
      "3               25.0              0.0         0.0     NaN             6.0   \n",
      "\n",
      "     Zip  Id                                  Name           City  \n",
      "0  94107  50  Harry Bridges Plaza (Ferry Building)  San Francisco  \n",
      "1  94063  50  Harry Bridges Plaza (Ferry Building)  San Francisco  \n",
      "2  94301  50  Harry Bridges Plaza (Ferry Building)  San Francisco  \n",
      "3  94041  50  Harry Bridges Plaza (Ferry Building)  San Francisco  \n",
      "\n",
      "[4 rows x 35 columns] \n",
      "\n",
      "Columns of the final dataset:\n",
      "Index(['Trip ID', 'Start Station', 'End Station', 'Subscriber Type',\n",
      "       'Start_date', 'Start_time', 'End_date', 'End_time', 'Date',\n",
      "       'Max TemperatureF', 'Mean TemperatureF', 'Min TemperatureF',\n",
      "       'Max Dew PointF', 'MeanDew PointF', 'Min DewpointF', 'Max Humidity',\n",
      "       'Mean Humidity', 'Min Humidity', 'Max Sea Level PressureIn',\n",
      "       'Mean Sea Level PressureIn', 'Min Sea Level PressureIn',\n",
      "       'Max VisibilityMiles', 'Mean VisibilityMiles', 'Min VisibilityMiles',\n",
      "       'Max Wind SpeedMPH', 'Mean Wind SpeedMPH', 'Max Gust SpeedMPH',\n",
      "       'PrecipitationIn', 'CloudCover', 'Events', 'WindDirDegrees', 'Zip',\n",
      "       'Id', 'Name', 'City'],\n",
      "      dtype='object')\n",
      "City\n",
      "San Francisco    1605525\n",
      "San Jose           89780\n",
      "Mountain View      49995\n",
      "Palo Alto          15365\n",
      "Redwood City       10095\n",
      "Name: count, dtype: int64\n",
      "Subscriber Type\n",
      "Subscriber    1551085\n",
      "Customer       219675\n",
      "Name: count, dtype: int64\n",
      "1770760\n"
     ]
    }
   ],
   "source": [
    "print(\"Final dataset:\")\n",
    "print(merged_data2.head(4), \"\\n\")\n",
    "print(\"Columns of the final dataset:\")\n",
    "print(merged_data2.columns)\n",
    "print(merged_data2[\"City\"].value_counts())\n",
    "print(merged_data2[\"Subscriber Type\"].value_counts())\n",
    "print(len(merged_data2))"
   ]
  },
  {
   "cell_type": "markdown",
   "metadata": {},
   "source": [
    "## Step 1: Data Preprocessing with Spark\n",
    "In this step I load, clean and merge datasets using Spark"
   ]
  },
  {
   "cell_type": "code",
   "execution_count": 17,
   "metadata": {},
   "outputs": [],
   "source": [
    "from pyspark.sql import SparkSession\n",
    "from pyspark.sql.functions import col, to_timestamp, to_date, date_format, when, count, desc, avg, round, expr #ultimo non serve\n",
    "\n",
    "# Initialize Spark session\n",
    "spark = SparkSession.builder.appName(\"BikeShare Data Preprocessing\").getOrCreate()"
   ]
  },
  {
   "cell_type": "markdown",
   "metadata": {},
   "source": [
    "#### Step 1.1: Load datasets"
   ]
  },
  {
   "cell_type": "code",
   "execution_count": 3,
   "metadata": {},
   "outputs": [],
   "source": [
    "trip_data = spark.read.csv(r\"C:\\Users\\utente\\Desktop\\UNITN\\data mining\\Project\\data bike rentals san jose\\trip_data.csv\", header=True, inferSchema=True)\n",
    "station_data = spark.read.csv(r\"C:\\Users\\utente\\Desktop\\UNITN\\data mining\\Project\\data bike rentals san jose\\station_data.csv\", header=True, inferSchema=True)\n",
    "weather_data = spark.read.csv(r\"C:\\Users\\utente\\Desktop\\UNITN\\data mining\\Project\\data bike rentals san jose\\weather_data.csv\", header=True, inferSchema=True)"
   ]
  },
  {
   "cell_type": "markdown",
   "metadata": {},
   "source": [
    "#### Step 1.2: Preprocessing using PySpark\n",
    "TRIP DATA:\n",
    "We process the `Start Date` and `End Date` columns to extract:\n",
    "- **Start_date**: The date when the trip started.\n",
    "- **Start_time**: The time when the trip started.\n",
    "- **End_date**: The date when the trip ended.\n",
    "- **End_time**: The time when the trip ended.\n",
    "\n",
    "The original `Start Date` and `End Date` columns are dropped after extraction."
   ]
  },
  {
   "cell_type": "code",
   "execution_count": 4,
   "metadata": {},
   "outputs": [],
   "source": [
    "# Convert \"Start Date\" and \"End Date\" to timestamp \n",
    "trip_data = trip_data.withColumn(\"Start Date\", to_timestamp(col(\"Start Date\"), \"dd/MM/yyyy HH:mm\")) \\\n",
    "                     .withColumn(\"End Date\", to_timestamp(col(\"End Date\"), \"dd/MM/yyyy HH:mm\"))\n",
    "\n",
    "# Extract Start_date and Start_time\n",
    "trip_data = trip_data.withColumn(\"Start_date\", to_date(col(\"Start Date\"))) \\\n",
    "                     .withColumn(\"Start_time\", date_format(col(\"Start Date\"), \"HH:mm:ss\"))\n",
    "\n",
    "# Extract End_date and End_time\n",
    "trip_data = trip_data.withColumn(\"End_date\", to_date(col(\"End Date\"))) \\\n",
    "                     .withColumn(\"End_time\", date_format(col(\"End Date\"), \"HH:mm:ss\"))\n",
    "\n",
    "trip_data = trip_data.drop(\"Start Date\", \"End Date\")\n",
    "# trip_data.show(5)"
   ]
  },
  {
   "cell_type": "markdown",
   "metadata": {},
   "source": [
    "WEATHER DATA: Convert the Date column to date type (necessary for comparison with other dates)"
   ]
  },
  {
   "cell_type": "code",
   "execution_count": 5,
   "metadata": {},
   "outputs": [],
   "source": [
    "weather_data = weather_data.withColumn(\"Date\", to_date(col(\"Date\"), \"dd/MM/yyyy\"))\n",
    "# weather_data.select(\"Date\").show(5)"
   ]
  },
  {
   "cell_type": "markdown",
   "metadata": {},
   "source": [
    "#### Step 1.3: Merge datasets using SQL queries"
   ]
  },
  {
   "cell_type": "code",
   "execution_count": 6,
   "metadata": {},
   "outputs": [],
   "source": [
    "# Register dataframes as temporary SQL views\n",
    "trip_data.createOrReplaceTempView(\"trip\")\n",
    "weather_data.createOrReplaceTempView(\"weather\")\n",
    "station_data.createOrReplaceTempView(\"station\")"
   ]
  },
  {
   "cell_type": "code",
   "execution_count": 7,
   "metadata": {},
   "outputs": [
    {
     "name": "stdout",
     "output_type": "stream",
     "text": [
      "+-------+-------------+-----------+---------------+----------+----------+----------+--------+----------------+-----------------+----------------+--------------+--------------+-------------+------------+-------------+------------+------------------------+-------------------------+------------------------+-------------------+--------------------+-------------------+-----------------+------------------+-----------------+---------------+----------+--------------+------+-----+--------------------+------------------+---------+-----------+----------------+--------------------+----------------+---------+----------+--------------+\n",
      "|Trip ID|Start Station|End Station|Subscriber Type|Start_date|  End_date|Start_time|End_time|Max TemperatureF|Mean TemperatureF|Min TemperatureF|Max Dew PointF|MeanDew PointF|Min DewpointF|Max Humidity|Mean Humidity|Min Humidity|Max Sea Level PressureIn|Mean Sea Level PressureIn|Min Sea Level PressureIn|Max VisibilityMiles|Mean VisibilityMiles|Min VisibilityMiles|Max Wind SpeedMPH|Mean Wind SpeedMPH|Max Gust SpeedMPH|PrecipitationIn|CloudCover|WindDirDegrees|Events|  Zip|  Start_Station_Name|Start_Station_City|Start_Lat| Start_Long|Start_dock_count|    End_Station_Name|End_Station_City|  End_Lat|  End_Long|End_dock_count|\n",
      "+-------+-------------+-----------+---------------+----------+----------+----------+--------+----------------+-----------------+----------------+--------------+--------------+-------------+------------+-------------+------------+------------------------+-------------------------+------------------------+-------------------+--------------------+-------------------+-----------------+------------------+-----------------+---------------+----------+--------------+------+-----+--------------------+------------------+---------+-----------+----------------+--------------------+----------------+---------+----------+--------------+\n",
      "| 913460|           50|         70|     Subscriber|2015-08-31|2015-08-31|  23:26:00|23:39:00|              85|               72|              59|            59|            55|           51|          84|           58|          32|                   29.95|                     29.9|                   29.85|                 10|                  10|                 10|               20|                 6|               24|            0.0|         1|           308|  NULL|95113|Harry Bridges Pla...|     San Francisco|37.795392|-122.394203|              23|San Francisco Cal...|   San Francisco|37.776617|-122.39526|            19|\n",
      "| 913460|           50|         70|     Subscriber|2015-08-31|2015-08-31|  23:26:00|23:39:00|              82|               72|              61|            62|            56|           52|          84|           63|          42|                   29.97|                    29.92|                   29.86|                 10|                  10|                 10|               22|                 6|               25|            0.0|         0|             6|  NULL|94041|Harry Bridges Pla...|     San Francisco|37.795392|-122.394203|              23|San Francisco Cal...|   San Francisco|37.776617|-122.39526|            19|\n",
      "| 913460|           50|         70|     Subscriber|2015-08-31|2015-08-31|  23:26:00|23:39:00|              82|               70|              59|            66|            59|           54|          82|           64|          48|                   29.95|                     29.9|                   29.85|                 20|                  17|                 10|               17|                 8|             NULL|            0.0|         0|           357|  NULL|94301|Harry Bridges Pla...|     San Francisco|37.795392|-122.394203|              23|San Francisco Cal...|   San Francisco|37.776617|-122.39526|            19|\n",
      "| 913460|           50|         70|     Subscriber|2015-08-31|2015-08-31|  23:26:00|23:39:00|              80|               71|              62|            63|            55|           52|          77|           67|          42|                   29.96|                    29.92|                   29.86|                 10|                  10|                 10|               18|                 4|               20|            0.0|         0|           282|  NULL|94063|Harry Bridges Pla...|     San Francisco|37.795392|-122.394203|              23|San Francisco Cal...|   San Francisco|37.776617|-122.39526|            19|\n",
      "| 913460|           50|         70|     Subscriber|2015-08-31|2015-08-31|  23:26:00|23:39:00|              78|               69|              60|            58|            57|           54|          84|           67|          50|                   29.95|                    29.91|                   29.87|                 10|                  10|                  9|               18|                 9|               21|            0.0|         1|           246|  NULL|94107|Harry Bridges Pla...|     San Francisco|37.795392|-122.394203|              23|San Francisco Cal...|   San Francisco|37.776617|-122.39526|            19|\n",
      "+-------+-------------+-----------+---------------+----------+----------+----------+--------+----------------+-----------------+----------------+--------------+--------------+-------------+------------+-------------+------------+------------------------+-------------------------+------------------------+-------------------+--------------------+-------------------+-----------------+------------------+-----------------+---------------+----------+--------------+------+-----+--------------------+------------------+---------+-----------+----------------+--------------------+----------------+---------+----------+--------------+\n",
      "only showing top 5 rows\n",
      "\n"
     ]
    }
   ],
   "source": [
    "final_data = spark.sql(\"\"\"\n",
    "    SELECT \n",
    "        -- Trip details\n",
    "        t.`Trip ID`, t.`Start Station`, t.`End Station`, t.`Subscriber Type`, t.`Start_date`, \n",
    "        t.`End_date`, t.`Start_time`, t.`End_time`, \n",
    "        \n",
    "        -- Weather details\n",
    "        w.`Max TemperatureF`, w.`Mean TemperatureF`, w.`Min TemperatureF`, w.`Max Dew PointF`,     \n",
    "        w.`MeanDew PointF`, w.`Min DewpointF`, w.`Max Humidity`, w.`Mean Humidity`,     \n",
    "        w.`Min Humidity`, w.`Max Sea Level PressureIn`, w.`Mean Sea Level PressureIn`, \n",
    "        w.`Min Sea Level PressureIn`, w.`Max VisibilityMiles`, w.`Mean VisibilityMiles`, \n",
    "        w.`Min VisibilityMiles`, w.`Max Wind SpeedMPH`, w.`Mean Wind SpeedMPH`, w.`Max Gust SpeedMPH`,\n",
    "        w.`PrecipitationIn`, w.`CloudCover`, w.`WindDirDegrees`, w.`Events`, w.`Zip`,\n",
    "                       \n",
    "        -- Station details\n",
    "        s1.Name AS Start_Station_Name, s1.City AS Start_Station_City, s1.Lat AS Start_Lat,\n",
    "        s1.Long AS Start_Long, s1.`Dock Count` AS Start_dock_count,\n",
    "        s2.Name AS End_Station_Name, s2.City AS End_Station_City, s2.Lat AS End_Lat,\n",
    "        s2.Long AS End_Long, s2.`Dock Count` AS End_dock_count\n",
    "    FROM \n",
    "        trip t\n",
    "    INNER JOIN weather w ON t.Start_date = w.Date\n",
    "    INNER JOIN station s1 ON t.`Start Station` = s1.Id\n",
    "    INNER JOIN station s2 ON t.`End Station` = s2.Id\n",
    "\"\"\"\n",
    ")\n",
    "\n",
    "# Show the final merged data\n",
    "final_data.show(5)\n"
   ]
  },
  {
   "cell_type": "markdown",
   "metadata": {},
   "source": [
    "#### Step 1.4: Inspect missing values (still to decide what to do about it)"
   ]
  },
  {
   "cell_type": "code",
   "execution_count": 8,
   "metadata": {},
   "outputs": [
    {
     "name": "stdout",
     "output_type": "stream",
     "text": [
      "+-------+-------------+-----------+---------------+----------+--------+----------+--------+----------------+-----------------+----------------+--------------+--------------+-------------+------------+-------------+------------+------------------------+-------------------------+------------------------+-------------------+--------------------+-------------------+-----------------+------------------+-----------------+---------------+----------+--------------+-------+---+------------------+------------------+---------+----------+----------------+----------------+----------------+-------+--------+--------------+\n",
      "|Trip ID|Start Station|End Station|Subscriber Type|Start_date|End_date|Start_time|End_time|Max TemperatureF|Mean TemperatureF|Min TemperatureF|Max Dew PointF|MeanDew PointF|Min DewpointF|Max Humidity|Mean Humidity|Min Humidity|Max Sea Level PressureIn|Mean Sea Level PressureIn|Min Sea Level PressureIn|Max VisibilityMiles|Mean VisibilityMiles|Min VisibilityMiles|Max Wind SpeedMPH|Mean Wind SpeedMPH|Max Gust SpeedMPH|PrecipitationIn|CloudCover|WindDirDegrees| Events|Zip|Start_Station_Name|Start_Station_City|Start_Lat|Start_Long|Start_dock_count|End_Station_Name|End_Station_City|End_Lat|End_Long|End_dock_count|\n",
      "+-------+-------------+-----------+---------------+----------+--------+----------+--------+----------------+-----------------+----------------+--------------+--------------+-------------+------------+-------------+------------+------------------------+-------------------------+------------------------+-------------------+--------------------+-------------------+-----------------+------------------+-----------------+---------------+----------+--------------+-------+---+------------------+------------------+---------+----------+----------------+----------------+----------------+-------+--------+--------------+\n",
      "|      0|            0|          0|              0|         0|       0|         0|       0|            2411|             2411|            2411|         37135|         37135|        37135|       37135|        37135|       37135|                     432|                      432|                     432|               5744|                5744|               5744|              432|               432|           529612|            432|       432|           432|1542614|  0|                 0|                 0|        0|         0|               0|               0|               0|      0|       0|             0|\n",
      "+-------+-------------+-----------+---------------+----------+--------+----------+--------+----------------+-----------------+----------------+--------------+--------------+-------------+------------+-------------+------------+------------------------+-------------------------+------------------------+-------------------+--------------------+-------------------+-----------------+------------------+-----------------+---------------+----------+--------------+-------+---+------------------+------------------+---------+----------+----------------+----------------+----------------+-------+--------+--------------+\n",
      "\n"
     ]
    }
   ],
   "source": [
    "# Count missing values for all columns\n",
    "missing_values = final_data.select(\n",
    "    [count(when(col(c).isNull(), c)).alias(c) for c in final_data.columns]\n",
    ")\n",
    "\n",
    "# Show the count of missing values for each column\n",
    "missing_values.show()\n"
   ]
  },
  {
   "cell_type": "code",
   "execution_count": 9,
   "metadata": {},
   "outputs": [
    {
     "name": "stdout",
     "output_type": "stream",
     "text": [
      "+----------+-----+\n",
      "|Start_date|count|\n",
      "+----------+-----+\n",
      "|2015-05-01| 1282|\n",
      "|2015-08-08|  432|\n",
      "|2015-05-02|  351|\n",
      "|2015-05-03|  346|\n",
      "+----------+-----+\n",
      "\n"
     ]
    }
   ],
   "source": [
    "# Filter rows with missing weather data\n",
    "missing_weather_rows = final_data.filter(\n",
    "    (col(\"Max TemperatureF\").isNull()) |\n",
    "    (col(\"Mean TemperatureF\").isNull())|\n",
    "    (col(\"Min TemperatureF\").isNull())\n",
    ")\n",
    "\n",
    "missing_weather_rows.groupBy(\"Start_date\").count().orderBy(desc(\"count\")).show()"
   ]
  },
  {
   "cell_type": "markdown",
   "metadata": {},
   "source": [
    "From this output we learn that missing values in temperature are due to the fact that for some specific days we dont have weather info, these days are the 4 in the output."
   ]
  },
  {
   "cell_type": "code",
   "execution_count": 132,
   "metadata": {},
   "outputs": [
    {
     "name": "stdout",
     "output_type": "stream",
     "text": [
      "+----------+-----+\n",
      "|Start_date|count|\n",
      "+----------+-----+\n",
      "|2014-10-14| 1496|\n",
      "|2014-10-08| 1367|\n",
      "|2014-12-08| 1363|\n",
      "|2014-09-10| 1351|\n",
      "|2014-12-09| 1305|\n",
      "|2014-11-10| 1304|\n",
      "|2014-11-07| 1301|\n",
      "|2014-11-24| 1285|\n",
      "|2015-05-01| 1282|\n",
      "|2014-12-10| 1279|\n",
      "+----------+-----+\n",
      "only showing top 10 rows\n",
      "\n"
     ]
    }
   ],
   "source": [
    "# Filter rows with missing weather data\n",
    "missing_weather_rows = final_data.filter(\n",
    "    (col(\"Max TemperatureF\").isNull()) |\n",
    "    (col(\"Mean TemperatureF\").isNull())|\n",
    "    (col(\"Min TemperatureF\").isNull())|\n",
    "    (col(\"Max Dew PointF\").isNull()) |\n",
    "    (col(\"MeanDew PointF\").isNull())|\n",
    "    (col(\"Min DewpointF\").isNull())\n",
    ")\n",
    "\n",
    "missing_weather_rows.groupBy(\"Start_date\").count().orderBy(desc(\"count\")).show(10)"
   ]
  },
  {
   "cell_type": "markdown",
   "metadata": {},
   "source": [
    "Looking at other variables for weather many more days present missing values. I could do imputation using the days close to the missing ones (?)"
   ]
  },
  {
   "cell_type": "markdown",
   "metadata": {},
   "source": [
    "#### Step 1.4: Implement MapReduce for different tasks\n",
    "- Identify the stations with the highest combined activity (pickups and returns)"
   ]
  },
  {
   "cell_type": "code",
   "execution_count": null,
   "metadata": {},
   "outputs": [
    {
     "name": "stdout",
     "output_type": "stream",
     "text": [
      "Busiest Stations:\n",
      "+-------+-------+-------+--------------+\n",
      "|Station|Pickups|Returns|Total Activity|\n",
      "+-------+-------+-------+--------------+\n",
      "|     70| 131520| 174050|        305570|\n",
      "|     50|  86275|  89050|        175325|\n",
      "|     61|  70130|  77315|        147445|\n",
      "|     60|  70790|  75325|        146115|\n",
      "|     65|  68760|  77110|        145870|\n",
      "|     55|  72180|  64830|        137010|\n",
      "|     74|  68435|  68085|        136520|\n",
      "|     77|  57155|  69580|        126735|\n",
      "|     88|  58700|  64450|        123150|\n",
      "|     67|  59425|  51100|        110525|\n",
      "|     39|  48475|  51195|         99670|\n",
      "|     69|  50090|  48165|         98255|\n",
      "|     76|  49470|  48425|         97895|\n",
      "|     64|  47345|  41265|         88610|\n",
      "|     57|  38540|  40735|         79275|\n",
      "|     82|  38380|  35795|         74175|\n",
      "|     51|  37980|  36145|         74125|\n",
      "|     56|  41795|  31650|         73445|\n",
      "|     54|  37415|  33435|         70850|\n",
      "|     63|  33300|  36375|         69675|\n",
      "+-------+-------+-------+--------------+\n",
      "only showing top 20 rows\n",
      "\n"
     ]
    }
   ],
   "source": [
    "# Count of rentals starting and ending from and at each station\n",
    "rentals_by_start_station = final_data.groupBy(\"Start Station\").count().withColumnRenamed(\"count\", \"Start Rentals\")\n",
    "\n",
    "rentals_by_end_station = final_data.groupBy(\"End Station\").count().withColumnRenamed(\"count\", \"End Rentals\")\n",
    "\n",
    "# Rename columns to standardize \"Station\" before the join\n",
    "rentals_by_start_station = rentals_by_start_station.withColumnRenamed(\"Start Station\", \"Station\") \\\n",
    "                                                   .withColumnRenamed(\"Start Rentals\", \"Pickups\")\n",
    "\n",
    "rentals_by_end_station = rentals_by_end_station.withColumnRenamed(\"End Station\", \"Station\") \\\n",
    "                                               .withColumnRenamed(\"End Rentals\", \"Returns\")\n",
    "\n",
    "# Perform the outer join on \"Station\"\n",
    "busiest_stations = rentals_by_start_station.join(\n",
    "    rentals_by_end_station,\n",
    "    on=\"Station\",\n",
    "    how=\"outer\"\n",
    ").fillna(0)  # Replace null values with 0\n",
    "\n",
    "# Add a new column for total activity\n",
    "busiest_stations = busiest_stations.withColumn(\"Total Activity\", col(\"Pickups\") + col(\"Returns\"))\n",
    "\n",
    "# Order by Total Activity in descending order\n",
    "busiest_stations = busiest_stations.orderBy(col(\"Total Activity\").desc())\n",
    "\n",
    "# Show the results\n",
    "print(\"Busiest Stations:\")\n",
    "busiest_stations.show()"
   ]
  },
  {
   "cell_type": "markdown",
   "metadata": {},
   "source": [
    "- IDENTIFY THE MOST POPULAR ROUTES:\n",
    "Instead of looking at stations individually, analyze the most frequently traveled routes (Start Station → End Station) to understand the most commonly used paths"
   ]
  },
  {
   "cell_type": "code",
   "execution_count": 10,
   "metadata": {},
   "outputs": [
    {
     "name": "stdout",
     "output_type": "stream",
     "text": [
      "+-------------+-----------+----------+\n",
      "|Start Station|End Station|Trip Count|\n",
      "+-------------+-----------+----------+\n",
      "|           50|         60|     15725|\n",
      "|           61|         50|     14865|\n",
      "|           50|         61|     13200|\n",
      "|           51|         70|     12195|\n",
      "|           74|         61|     11780|\n",
      "|           60|         74|     11650|\n",
      "|           65|         70|     10960|\n",
      "|           55|         70|     10920|\n",
      "|           70|         50|     10455|\n",
      "|           65|         88|     10370|\n",
      "+-------------+-----------+----------+\n",
      "only showing top 10 rows\n",
      "\n"
     ]
    }
   ],
   "source": [
    "# Group by Start Station and End Station to count routes\n",
    "popular_routes = final_data.groupBy(\"Start Station\", \"End Station\").count().withColumnRenamed(\"count\", \"Trip Count\")\n",
    "\n",
    "# Sort by Trip Count in descending order\n",
    "popular_routes = popular_routes.orderBy(col(\"Trip Count\").desc())\n",
    "\n",
    "popular_routes.show(10)"
   ]
  },
  {
   "cell_type": "markdown",
   "metadata": {},
   "source": [
    "- TRIPS BY WEEK DAY: Analyze how trip volume varies by the day of the week."
   ]
  },
  {
   "cell_type": "code",
   "execution_count": 63,
   "metadata": {},
   "outputs": [
    {
     "name": "stdout",
     "output_type": "stream",
     "text": [
      "+-------------+--------------------+-----------+\n",
      "|Start_weekday|Start_weekday_mapped|Total Trips|\n",
      "+-------------+--------------------+-----------+\n",
      "|       Monday|                   1|     318590|\n",
      "|      Tuesday|                   2|     332515|\n",
      "|    Wednesday|                   3|     326425|\n",
      "|     Thursday|                   4|     315920|\n",
      "|       Friday|                   5|     289040|\n",
      "|     Saturday|                   6|     104675|\n",
      "|       Sunday|                   7|      83595|\n",
      "+-------------+--------------------+-----------+\n",
      "\n"
     ]
    }
   ],
   "source": [
    "from pyspark.sql.functions import dayofweek, when\n",
    "\n",
    "# Add a column for the weekday number (1 = Sunday, ..., 7 = Saturday)\n",
    "final_data = final_data.withColumn(\"Start_weekday_num\", dayofweek(col(\"Start_date\")))\n",
    "\n",
    "# Remap weekday numbers so Monday = 1, Sunday = 7\n",
    "final_data = final_data.withColumn(\n",
    "    \"Start_weekday_mapped\",\n",
    "    when(col(\"Start_weekday_num\") == 2, 1)  # Monday\n",
    "    .when(col(\"Start_weekday_num\") == 3, 2)  # Tuesday\n",
    "    .when(col(\"Start_weekday_num\") == 4, 3)  # Wednesday\n",
    "    .when(col(\"Start_weekday_num\") == 5, 4)  # Thursday\n",
    "    .when(col(\"Start_weekday_num\") == 6, 5)  # Friday\n",
    "    .when(col(\"Start_weekday_num\") == 7, 6)  # Saturday\n",
    "    .when(col(\"Start_weekday_num\") == 1, 7)  # Sunday\n",
    ")\n",
    "\n",
    "# Map the new weekday numbers to their names\n",
    "final_data = final_data.withColumn(\n",
    "    \"Start_weekday\",\n",
    "    when(col(\"Start_weekday_mapped\") == 1, \"Monday\")\n",
    "    .when(col(\"Start_weekday_mapped\") == 2, \"Tuesday\")\n",
    "    .when(col(\"Start_weekday_mapped\") == 3, \"Wednesday\")\n",
    "    .when(col(\"Start_weekday_mapped\") == 4, \"Thursday\")\n",
    "    .when(col(\"Start_weekday_mapped\") == 5, \"Friday\")\n",
    "    .when(col(\"Start_weekday_mapped\") == 6, \"Saturday\")\n",
    "    .when(col(\"Start_weekday_mapped\") == 7, \"Sunday\")\n",
    ")\n",
    "\n",
    "# Group by the new weekday column and include mapped values\n",
    "trips_by_weekday = final_data.groupBy(\"Start_weekday\", \"Start_weekday_mapped\").count().withColumnRenamed(\"count\", \"Total Trips\")\n",
    "\n",
    "# Sort by Start_weekday_mapped to ensure Monday is first\n",
    "trips_by_weekday = trips_by_weekday.orderBy(\"Start_weekday_mapped\")\n",
    "\n",
    "trips_by_weekday.show()\n"
   ]
  },
  {
   "cell_type": "markdown",
   "metadata": {},
   "source": [
    "- AVERAGE TRIP DURATION BY STATION"
   ]
  },
  {
   "cell_type": "code",
   "execution_count": 39,
   "metadata": {},
   "outputs": [
    {
     "name": "stdout",
     "output_type": "stream",
     "text": [
      "Average Trip Duration by Station (Start and End):\n",
      "+-------+------------------------+------------+\n",
      "|Station|Avg Trip Duration (mins)|Station Type|\n",
      "+-------+------------------------+------------+\n",
      "|     35|                   50.69|         End|\n",
      "|     25|                   50.11|       Start|\n",
      "|     35|                   41.34|       Start|\n",
      "|     83|                   30.52|         End|\n",
      "|     36|                    30.4|         End|\n",
      "|     25|                   28.97|         End|\n",
      "|     24|                    27.6|         End|\n",
      "|     36|                   27.22|       Start|\n",
      "|     85|                   25.52|       Start|\n",
      "|     60|                   24.03|         End|\n",
      "|     34|                   23.26|         End|\n",
      "|     34|                   23.06|       Start|\n",
      "|     71|                   22.15|         End|\n",
      "|     24|                    21.4|       Start|\n",
      "|     73|                   21.38|         End|\n",
      "|     80|                    21.2|         End|\n",
      "|     59|                   20.85|         End|\n",
      "|     58|                   20.71|       Start|\n",
      "|     86|                   20.29|         End|\n",
      "|     58|                   20.09|         End|\n",
      "+-------+------------------------+------------+\n",
      "only showing top 20 rows\n",
      "\n"
     ]
    }
   ],
   "source": [
    "from pyspark.sql.functions import unix_timestamp, avg, to_timestamp, lit\n",
    "\n",
    "# Convert to timestamp\n",
    "final_data = final_data.withColumn(\"Start_time\", to_timestamp(col(\"Start_time\"))) \\\n",
    "                       .withColumn(\"End_time\", to_timestamp(col(\"End_time\")))\n",
    "\n",
    "# Calculate trip duration in minutes\n",
    "final_data = final_data.withColumn(\"Trip_Duration\", \n",
    "    (unix_timestamp(col(\"End_time\")) - unix_timestamp(col(\"Start_time\"))) / 60)\n",
    "\n",
    "# Average trip duration by Start Station\n",
    "avg_trip_duration_start = final_data.groupBy(\"Start Station\").agg(\n",
    "    avg(\"Trip_Duration\").alias(\"Avg Trip Duration (mins)\")\n",
    ").withColumnRenamed(\"Start Station\", \"Station\").withColumn(\"Station Type\", lit(\"Start\"))\n",
    "\n",
    "# Average trip duration by End Station\n",
    "avg_trip_duration_end = final_data.groupBy(\"End Station\").agg(\n",
    "    avg(\"Trip_Duration\").alias(\"Avg Trip Duration (mins)\")\n",
    ").withColumnRenamed(\"End Station\", \"Station\").withColumn(\"Station Type\", lit(\"End\"))\n",
    "\n",
    "# Combine results for Start and End Stations\n",
    "avg_trip_duration_combined = avg_trip_duration_start.union(avg_trip_duration_end)\n",
    "\n",
    "# Sort by Avg Trip Duration in descending order\n",
    "avg_trip_duration_combined = avg_trip_duration_combined.withColumn(\"Avg Trip Duration (mins)\", round(col(\"Avg Trip Duration (mins)\"), 2)).orderBy(col(\"Avg Trip Duration (mins)\").desc())\n",
    "\n",
    "print(\"Average Trip Duration by Station (Start and End):\")\n",
    "avg_trip_duration_combined.show()\n"
   ]
  },
  {
   "cell_type": "markdown",
   "metadata": {},
   "source": [
    "- analyse how behaviours change between subscriber type"
   ]
  },
  {
   "cell_type": "code",
   "execution_count": 40,
   "metadata": {},
   "outputs": [
    {
     "name": "stdout",
     "output_type": "stream",
     "text": [
      "Trips by Subscriber Type with Percentage:\n",
      "+---------------+-----------+----------+\n",
      "|Subscriber Type|Total Trips|Percentage|\n",
      "+---------------+-----------+----------+\n",
      "|     Subscriber|    1551085|     87.59|\n",
      "|       Customer|     219675|     12.41|\n",
      "+---------------+-----------+----------+\n",
      "\n"
     ]
    }
   ],
   "source": [
    "from pyspark.sql.functions import col, round\n",
    "\n",
    "total_trips = final_data.count()\n",
    "\n",
    "# Group by Subscriber Type and count trips\n",
    "trips_by_user_type = final_data.groupBy(\"Subscriber Type\").count().withColumnRenamed(\"count\", \"Total Trips\")\n",
    "\n",
    "# Add a percentage column to show the proportion of trips for each user type\n",
    "trips_by_user_type = trips_by_user_type.withColumn(\n",
    "    \"Percentage\",\n",
    "    round((col(\"Total Trips\") / total_trips) * 100, 2)\n",
    ")\n",
    "\n",
    "print(\"Trips by Subscriber Type with Percentage:\")\n",
    "trips_by_user_type.show()\n"
   ]
  },
  {
   "cell_type": "code",
   "execution_count": 45,
   "metadata": {},
   "outputs": [
    {
     "name": "stdout",
     "output_type": "stream",
     "text": [
      "Average Trip Duration by Subscriber Type:\n",
      "+---------------+------------------------+\n",
      "|Subscriber Type|Avg Trip Duration (mins)|\n",
      "+---------------+------------------------+\n",
      "|     Subscriber|                   8.113|\n",
      "|       Customer|                  38.543|\n",
      "+---------------+------------------------+\n",
      "\n"
     ]
    }
   ],
   "source": [
    "# Calculate average trip duration for each user type and round it\n",
    "avg_trip_duration_by_user_type = final_data.groupBy(\"Subscriber Type\").agg(\n",
    "    round(avg(\"Trip_Duration\"), 3).alias(\"Avg Trip Duration (mins)\")\n",
    ")\n",
    "\n",
    "print(\"Average Trip Duration by Subscriber Type:\")\n",
    "avg_trip_duration_by_user_type.show()\n"
   ]
  },
  {
   "cell_type": "code",
   "execution_count": 46,
   "metadata": {},
   "outputs": [
    {
     "name": "stdout",
     "output_type": "stream",
     "text": [
      "Peak Hours by Subscriber Type:\n",
      "+---------------+----------+-----------+\n",
      "|Subscriber Type|Start_hour|Total Trips|\n",
      "+---------------+----------+-----------+\n",
      "|       Customer|         0|       1285|\n",
      "|       Customer|         1|        965|\n",
      "|       Customer|         2|        575|\n",
      "|       Customer|         3|        305|\n",
      "|       Customer|         4|        225|\n",
      "|       Customer|         5|        465|\n",
      "|       Customer|         6|       1650|\n",
      "|       Customer|         7|       4565|\n",
      "|       Customer|         8|       8600|\n",
      "|       Customer|         9|      10375|\n",
      "|       Customer|        10|      13580|\n",
      "|       Customer|        11|      17880|\n",
      "|       Customer|        12|      19830|\n",
      "|       Customer|        13|      20270|\n",
      "|       Customer|        14|      20660|\n",
      "|       Customer|        15|      20415|\n",
      "|       Customer|        16|      19985|\n",
      "|       Customer|        17|      18595|\n",
      "|       Customer|        18|      13605|\n",
      "|       Customer|        19|       8635|\n",
      "+---------------+----------+-----------+\n",
      "only showing top 20 rows\n",
      "\n"
     ]
    }
   ],
   "source": [
    "from pyspark.sql.functions import hour\n",
    "\n",
    "# Extract hour from Start_time\n",
    "final_data = final_data.withColumn(\"Start_hour\", hour(col(\"Start_time\")))\n",
    "\n",
    "# Group by Subscriber Type and Start_hour\n",
    "peak_hours_by_user_type = final_data.groupBy(\"Subscriber Type\", \"Start_hour\").count().withColumnRenamed(\"count\", \"Total Trips\")\n",
    "\n",
    "# Show results\n",
    "print(\"Peak Hours by Subscriber Type:\")\n",
    "peak_hours_by_user_type.orderBy(\"Subscriber Type\", \"Start_hour\").show()\n"
   ]
  },
  {
   "cell_type": "code",
   "execution_count": 47,
   "metadata": {},
   "outputs": [
    {
     "data": {
      "image/png": "[encoded data removed]",
      "text/plain": [
       "<Figure size 1200x600 with 1 Axes>"
      ]
     },
     "metadata": {},
     "output_type": "display_data"
    }
   ],
   "source": [
    "import matplotlib.pyplot as plt\n",
    "import pandas as pd\n",
    "\n",
    "# Convert the PySpark DataFrame to a Pandas DataFrame\n",
    "peak_hours_df = peak_hours_by_user_type.toPandas()\n",
    "\n",
    "# Pivot the data for visualization\n",
    "pivot_table = peak_hours_df.pivot(index=\"Start_hour\", columns=\"Subscriber Type\", values=\"Total Trips\").fillna(0)\n",
    "\n",
    "# Plot a histogram\n",
    "pivot_table.plot(kind=\"bar\", figsize=(12, 6), width=0.8)\n",
    "\n",
    "# Customize the plot\n",
    "plt.title(\"Frequency of bike rental usage by Subscriber Type\")\n",
    "plt.xlabel(\"Hour of the Day\")\n",
    "plt.ylabel(\"Total Trips\")\n",
    "plt.xticks(rotation=0)\n",
    "plt.yticks(rotation=45)\n",
    "plt.legend(title=\"Subscriber Type\")\n",
    "plt.tight_layout()\n",
    "\n",
    "# Show the plot\n",
    "plt.show()\n"
   ]
  },
  {
   "cell_type": "markdown",
   "metadata": {},
   "source": [
    "## END OF 1. DATA PREPROCESSING "
   ]
  },
  {
   "cell_type": "markdown",
   "metadata": {},
   "source": [
    "# 2. Station Importance Ranking Using PageRank"
   ]
  },
  {
   "cell_type": "markdown",
   "metadata": {},
   "source": [
    "### Step 2.1. Preprocess the Dataset\n",
    "Let's build the directed graph:\n",
    "\n",
    "Nodes = nique bike stations.\\\n",
    "Edges = directed trips between stations (weighted by the frequency of trips)."
   ]
  },
  {
   "cell_type": "code",
   "execution_count": 53,
   "metadata": {},
   "outputs": [],
   "source": [
    "from pyspark.sql import functions as F\n",
    "\n",
    "# Group by start and end stations to calculate the number of trips (weights)\n",
    "edge_weights = final_data.groupBy(\"Start Station\", \"End Station\") \\\n",
    "    .agg(F.count(\"*\").alias(\"weight\"))\n",
    "\n",
    "# Collect all unique stations (nodes)\n",
    "nodes = edge_weights.select(\"Start Station\").union(edge_weights.select(\"End Station\")).distinct()"
   ]
  },
  {
   "cell_type": "code",
   "execution_count": 54,
   "metadata": {},
   "outputs": [
    {
     "name": "stdout",
     "output_type": "stream",
     "text": [
      "+-------------+-----------+------+\n",
      "|Start Station|End Station|weight|\n",
      "+-------------+-----------+------+\n",
      "|           65|         50|  4135|\n",
      "|           64|         48|   845|\n",
      "|           68|         57|  1350|\n",
      "|           62|         87|   685|\n",
      "+-------------+-----------+------+\n",
      "only showing top 4 rows\n",
      "\n",
      "None\n"
     ]
    }
   ],
   "source": [
    "print(edge_weights.show(4))"
   ]
  },
  {
   "cell_type": "markdown",
   "metadata": {},
   "source": [
    "#### Step 2.2 Build the Transition Matrix\n",
    "Represent the trips as a transition matrix. Each element 𝑀𝑖𝑗 in the matrix represents the probability of moving from station 𝑗 to station 𝑖.\n",
    "\n",
    "1- Calculate the total outgoing trips for each station.\n",
    "\n",
    "2- Normalize edge weights to get probabilities."
   ]
  },
  {
   "cell_type": "code",
   "execution_count": 60,
   "metadata": {},
   "outputs": [
    {
     "name": "stdout",
     "output_type": "stream",
     "text": [
      "+-------------+-----------+------+------------+-----------+\n",
      "|Start Station|End Station|weight|total_weight|probability|\n",
      "+-------------+-----------+------+------------+-----------+\n",
      "|           65|         50|  4135|       68760|     0.0601|\n",
      "|           64|         48|   845|       47345|     0.0178|\n",
      "|           68|         57|  1350|       27615|     0.0489|\n",
      "|           62|         87|   685|       39995|     0.0171|\n",
      "|            2|         80|    75|       24840|      0.003|\n",
      "|           90|         64|    60|        9240|     0.0065|\n",
      "|           68|         74|  1030|       27615|     0.0373|\n",
      "|           45|         70|  3105|       30070|     0.1033|\n",
      "|           59|         46|   120|       18230|     0.0066|\n",
      "|           51|         50|   775|       37980|     0.0204|\n",
      "|           47|         45|   565|       23525|      0.024|\n",
      "|           10|          2|  1475|        4160|     0.3546|\n",
      "|           71|         42|  1280|       32125|     0.0398|\n",
      "|           32|         27|   245|        6150|     0.0398|\n",
      "|           87|         65|  1440|       16860|     0.0854|\n",
      "|           56|         70|  6075|       41795|     0.1454|\n",
      "|           88|         56|   870|       58700|     0.0148|\n",
      "|           16|          3|    75|        2470|     0.0304|\n",
      "|           34|         31|    25|        5580|     0.0045|\n",
      "|           48|         75|   345|       25185|     0.0137|\n",
      "+-------------+-----------+------+------------+-----------+\n",
      "only showing top 20 rows\n",
      "\n"
     ]
    }
   ],
   "source": [
    "# Calculate total outgoing trips for each station\n",
    "total_outgoing = edge_weights.groupBy(\"Start Station\") \\\n",
    "    .agg(F.sum(\"weight\").alias(\"total_weight\"))\n",
    "\n",
    "# Join with edge weights to calculate probabilities\n",
    "transition_df = edge_weights.join(total_outgoing, on=\"Start Station\") \\\n",
    "    .withColumn(\"probability\", round(F.col(\"weight\") / F.col(\"total_weight\"), 4))\n",
    "\n",
    "# Transition matrix rows: Start Station, End Station, Probability\n",
    "transition_df.show()\n",
    "\n",
    "# weight represents the number of trips from the start station to the end station (frq of trips)\n",
    "# total_weight is the total number of trips from start station to all other stations"
   ]
  },
  {
   "cell_type": "markdown",
   "metadata": {},
   "source": [
    "#### Step 2.3. Implement the PageRank Algorithm\n",
    "Use NumPy to compute PageRank iteratively.\n",
    "\n",
    "Collect the transition_df data into a NumPy matrix."
   ]
  },
  {
   "cell_type": "code",
   "execution_count": 56,
   "metadata": {},
   "outputs": [],
   "source": [
    "import numpy as np\n",
    "\n",
    "# Map stations to indices\n",
    "station_list = nodes.collect()\n",
    "station_to_index = {row[0]: idx for idx, row in enumerate(station_list)}\n",
    "n = len(station_list)  # Total number of stations\n",
    "\n",
    "# Initialize transition matrix with zeros\n",
    "M = np.zeros((n, n))\n",
    "\n",
    "# Fill in the transition probabilities\n",
    "for row in transition_df.collect():\n",
    "    start_idx = station_to_index[row[\"Start Station\"]]\n",
    "    end_idx = station_to_index[row[\"End Station\"]]\n",
    "    M[end_idx, start_idx] = row[\"probability\"]  # Note: M[end][start] for directed edge"
   ]
  },
  {
   "cell_type": "markdown",
   "metadata": {},
   "source": [
    "Initialize the PageRank Vector: use a uniform distribution to start."
   ]
  },
  {
   "cell_type": "code",
   "execution_count": 57,
   "metadata": {},
   "outputs": [],
   "source": [
    "v = np.ones(n) / n  # Uniform distribution"
   ]
  },
  {
   "cell_type": "markdown",
   "metadata": {},
   "source": [
    "Iteratively Compute PageRank:"
   ]
  },
  {
   "cell_type": "code",
   "execution_count": 58,
   "metadata": {},
   "outputs": [],
   "source": [
    "d = 0.85  # Damping factor\n",
    "e = np.ones(n) / n  # Uniform jump vector\n",
    "\n",
    "iterations = 100  # Number of iterations\n",
    "for _ in range(iterations):\n",
    "    v = d * (M @ v) + (1 - d) * e\n"
   ]
  },
  {
   "cell_type": "markdown",
   "metadata": {},
   "source": [
    "Intuition behind v:\\\n",
    "The proportion of time a random biker would spend at station 𝑖 if they took an infinite number of trips.\n",
    "A measure of the station’s connectivity and influence in the network."
   ]
  },
  {
   "cell_type": "markdown",
   "metadata": {},
   "source": [
    "Map the computed PageRank values back to the station names."
   ]
  },
  {
   "cell_type": "code",
   "execution_count": 59,
   "metadata": {},
   "outputs": [
    {
     "name": "stdout",
     "output_type": "stream",
     "text": [
      "Top 10 Stations by PageRank:\n",
      "Station: 2, PageRank: 0.0520\n",
      "Station: 70, PageRank: 0.0487\n",
      "Station: 22, PageRank: 0.0359\n",
      "Station: 28, PageRank: 0.0334\n",
      "Station: 50, PageRank: 0.0266\n",
      "Station: 65, PageRank: 0.0236\n",
      "Station: 61, PageRank: 0.0228\n",
      "Station: 60, PageRank: 0.0225\n",
      "Station: 74, PageRank: 0.0212\n",
      "Station: 4, PageRank: 0.0202\n"
     ]
    }
   ],
   "source": [
    "# Map indices back to station names\n",
    "station_ranks = [(station_list[i][0], rank) for i, rank in enumerate(v)]\n",
    "station_ranks.sort(key=lambda x: x[1], reverse=True)  # Sort by rank (descending)\n",
    "\n",
    "# Display top 10 stations\n",
    "print(\"Top 10 Stations by PageRank:\")\n",
    "for station, rank in station_ranks[:10]:\n",
    "    print(f\"Station: {station}, PageRank: {rank:.4f}\")\n"
   ]
  },
  {
   "cell_type": "markdown",
   "metadata": {},
   "source": [
    "Why is PageRank Useful for Bike Stations?\n",
    "\n",
    "- Identify Hubs: Stations with high PageRank are central hubs where many trips either start or end.\\\n",
    "- Optimize Operations: Knowing which stations are central can help prioritize bike redistribution efforts.\\\n",
    "- User Flow Insights: Understand patterns of user movement and how stations interact within the network.\\\n",
    "- Infrastructure Planning: Focus investments (e.g., adding docks or bikes) on high-importance stations."
   ]
  }
 ],
 "metadata": {
  "kernelspec": {
   "display_name": "Python 3",
   "language": "python",
   "name": "python3"
  },
  "language_info": {
   "codemirror_mode": {
    "name": "ipython",
    "version": 3
   },
   "file_extension": ".py",
   "mimetype": "text/x-python",
   "name": "python",
   "nbconvert_exporter": "python",
   "pygments_lexer": "ipython3",
   "version": "3.12.0"
  }
 },
 "nbformat": 4,
 "nbformat_minor": 2
}
