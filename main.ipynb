{
 "cells": [
  {
   "cell_type": "markdown",
   "metadata": {},
   "source": [
    "# Data Mining Project\n",
    "This notebook demonstrates the data preprocessing and analysis steps for the Bike Rentals dataset in San Jose. The goal is to clean the data, extract relevant features, and perform exploratory data analysis to derive insights."
   ]
  },
  {
   "cell_type": "markdown",
   "metadata": {},
   "source": [
    "## Step 1: Import Libraries and Load Data\n",
    "In this step, we import the required Python libraries (like pandas) and load the datasets:\n",
    "- `data_trip`: Contains trip data (start and end dates, stations, etc.).\n",
    "- `data_weather`: Includes weather information during the trip period.\n",
    "- `data_station`: Provides details about bike stations."
   ]
  },
  {
   "cell_type": "code",
   "execution_count": 1,
   "metadata": {},
   "outputs": [
    {
     "ename": "FileNotFoundError",
     "evalue": "[Errno 2] No such file or directory: 'C:\\\\Users\\\\utente\\\\Desktop\\\\UNITN\\\\data mining\\\\data bike rentals san jose\\\\trip_data.csv'",
     "output_type": "error",
     "traceback": [
      "\u001b[1;31m---------------------------------------------------------------------------\u001b[0m",
      "\u001b[1;31mFileNotFoundError\u001b[0m                         Traceback (most recent call last)",
      "Cell \u001b[1;32mIn[1], line 2\u001b[0m\n\u001b[0;32m      1\u001b[0m \u001b[38;5;28;01mimport\u001b[39;00m \u001b[38;5;21;01mpandas\u001b[39;00m \u001b[38;5;28;01mas\u001b[39;00m \u001b[38;5;21;01mpd\u001b[39;00m\n\u001b[1;32m----> 2\u001b[0m data_trip \u001b[38;5;241m=\u001b[39m \u001b[43mpd\u001b[49m\u001b[38;5;241;43m.\u001b[39;49m\u001b[43mread_csv\u001b[49m\u001b[43m(\u001b[49m\u001b[38;5;124;43mr\u001b[39;49m\u001b[38;5;124;43m\"\u001b[39;49m\u001b[38;5;124;43mC:\u001b[39;49m\u001b[38;5;124;43m\\\u001b[39;49m\u001b[38;5;124;43mUsers\u001b[39;49m\u001b[38;5;124;43m\\\u001b[39;49m\u001b[38;5;124;43mutente\u001b[39;49m\u001b[38;5;124;43m\\\u001b[39;49m\u001b[38;5;124;43mDesktop\u001b[39;49m\u001b[38;5;124;43m\\\u001b[39;49m\u001b[38;5;124;43mUNITN\u001b[39;49m\u001b[38;5;124;43m\\\u001b[39;49m\u001b[38;5;124;43mdata mining\u001b[39;49m\u001b[38;5;124;43m\\\u001b[39;49m\u001b[38;5;124;43mdata bike rentals san jose\u001b[39;49m\u001b[38;5;124;43m\\\u001b[39;49m\u001b[38;5;124;43mtrip_data.csv\u001b[39;49m\u001b[38;5;124;43m\"\u001b[39;49m\u001b[43m)\u001b[49m\n\u001b[0;32m      3\u001b[0m data_weather \u001b[38;5;241m=\u001b[39m pd\u001b[38;5;241m.\u001b[39mread_csv(\u001b[38;5;124mr\u001b[39m\u001b[38;5;124m\"\u001b[39m\u001b[38;5;124mC:\u001b[39m\u001b[38;5;124m\\\u001b[39m\u001b[38;5;124mUsers\u001b[39m\u001b[38;5;124m\\\u001b[39m\u001b[38;5;124mutente\u001b[39m\u001b[38;5;124m\\\u001b[39m\u001b[38;5;124mDesktop\u001b[39m\u001b[38;5;124m\\\u001b[39m\u001b[38;5;124mUNITN\u001b[39m\u001b[38;5;124m\\\u001b[39m\u001b[38;5;124mdata mining\u001b[39m\u001b[38;5;124m\\\u001b[39m\u001b[38;5;124mdata bike rentals san jose\u001b[39m\u001b[38;5;124m\\\u001b[39m\u001b[38;5;124mweather_data.csv\u001b[39m\u001b[38;5;124m\"\u001b[39m)\n\u001b[0;32m      4\u001b[0m data_station \u001b[38;5;241m=\u001b[39m pd\u001b[38;5;241m.\u001b[39mread_csv(\u001b[38;5;124mr\u001b[39m\u001b[38;5;124m\"\u001b[39m\u001b[38;5;124mC:\u001b[39m\u001b[38;5;124m\\\u001b[39m\u001b[38;5;124mUsers\u001b[39m\u001b[38;5;124m\\\u001b[39m\u001b[38;5;124mutente\u001b[39m\u001b[38;5;124m\\\u001b[39m\u001b[38;5;124mDesktop\u001b[39m\u001b[38;5;124m\\\u001b[39m\u001b[38;5;124mUNITN\u001b[39m\u001b[38;5;124m\\\u001b[39m\u001b[38;5;124mdata mining\u001b[39m\u001b[38;5;124m\\\u001b[39m\u001b[38;5;124mdata bike rentals san jose\u001b[39m\u001b[38;5;124m\\\u001b[39m\u001b[38;5;124mstation_data.csv\u001b[39m\u001b[38;5;124m\"\u001b[39m)\n",
      "File \u001b[1;32mc:\\Users\\utente\\AppData\\Local\\Programs\\Python\\Python312\\Lib\\site-packages\\pandas\\io\\parsers\\readers.py:1026\u001b[0m, in \u001b[0;36mread_csv\u001b[1;34m(filepath_or_buffer, sep, delimiter, header, names, index_col, usecols, dtype, engine, converters, true_values, false_values, skipinitialspace, skiprows, skipfooter, nrows, na_values, keep_default_na, na_filter, verbose, skip_blank_lines, parse_dates, infer_datetime_format, keep_date_col, date_parser, date_format, dayfirst, cache_dates, iterator, chunksize, compression, thousands, decimal, lineterminator, quotechar, quoting, doublequote, escapechar, comment, encoding, encoding_errors, dialect, on_bad_lines, delim_whitespace, low_memory, memory_map, float_precision, storage_options, dtype_backend)\u001b[0m\n\u001b[0;32m   1013\u001b[0m kwds_defaults \u001b[38;5;241m=\u001b[39m _refine_defaults_read(\n\u001b[0;32m   1014\u001b[0m     dialect,\n\u001b[0;32m   1015\u001b[0m     delimiter,\n\u001b[1;32m   (...)\u001b[0m\n\u001b[0;32m   1022\u001b[0m     dtype_backend\u001b[38;5;241m=\u001b[39mdtype_backend,\n\u001b[0;32m   1023\u001b[0m )\n\u001b[0;32m   1024\u001b[0m kwds\u001b[38;5;241m.\u001b[39mupdate(kwds_defaults)\n\u001b[1;32m-> 1026\u001b[0m \u001b[38;5;28;01mreturn\u001b[39;00m \u001b[43m_read\u001b[49m\u001b[43m(\u001b[49m\u001b[43mfilepath_or_buffer\u001b[49m\u001b[43m,\u001b[49m\u001b[43m \u001b[49m\u001b[43mkwds\u001b[49m\u001b[43m)\u001b[49m\n",
      "File \u001b[1;32mc:\\Users\\utente\\AppData\\Local\\Programs\\Python\\Python312\\Lib\\site-packages\\pandas\\io\\parsers\\readers.py:620\u001b[0m, in \u001b[0;36m_read\u001b[1;34m(filepath_or_buffer, kwds)\u001b[0m\n\u001b[0;32m    617\u001b[0m _validate_names(kwds\u001b[38;5;241m.\u001b[39mget(\u001b[38;5;124m\"\u001b[39m\u001b[38;5;124mnames\u001b[39m\u001b[38;5;124m\"\u001b[39m, \u001b[38;5;28;01mNone\u001b[39;00m))\n\u001b[0;32m    619\u001b[0m \u001b[38;5;66;03m# Create the parser.\u001b[39;00m\n\u001b[1;32m--> 620\u001b[0m parser \u001b[38;5;241m=\u001b[39m \u001b[43mTextFileReader\u001b[49m\u001b[43m(\u001b[49m\u001b[43mfilepath_or_buffer\u001b[49m\u001b[43m,\u001b[49m\u001b[43m \u001b[49m\u001b[38;5;241;43m*\u001b[39;49m\u001b[38;5;241;43m*\u001b[39;49m\u001b[43mkwds\u001b[49m\u001b[43m)\u001b[49m\n\u001b[0;32m    622\u001b[0m \u001b[38;5;28;01mif\u001b[39;00m chunksize \u001b[38;5;129;01mor\u001b[39;00m iterator:\n\u001b[0;32m    623\u001b[0m     \u001b[38;5;28;01mreturn\u001b[39;00m parser\n",
      "File \u001b[1;32mc:\\Users\\utente\\AppData\\Local\\Programs\\Python\\Python312\\Lib\\site-packages\\pandas\\io\\parsers\\readers.py:1620\u001b[0m, in \u001b[0;36mTextFileReader.__init__\u001b[1;34m(self, f, engine, **kwds)\u001b[0m\n\u001b[0;32m   1617\u001b[0m     \u001b[38;5;28mself\u001b[39m\u001b[38;5;241m.\u001b[39moptions[\u001b[38;5;124m\"\u001b[39m\u001b[38;5;124mhas_index_names\u001b[39m\u001b[38;5;124m\"\u001b[39m] \u001b[38;5;241m=\u001b[39m kwds[\u001b[38;5;124m\"\u001b[39m\u001b[38;5;124mhas_index_names\u001b[39m\u001b[38;5;124m\"\u001b[39m]\n\u001b[0;32m   1619\u001b[0m \u001b[38;5;28mself\u001b[39m\u001b[38;5;241m.\u001b[39mhandles: IOHandles \u001b[38;5;241m|\u001b[39m \u001b[38;5;28;01mNone\u001b[39;00m \u001b[38;5;241m=\u001b[39m \u001b[38;5;28;01mNone\u001b[39;00m\n\u001b[1;32m-> 1620\u001b[0m \u001b[38;5;28mself\u001b[39m\u001b[38;5;241m.\u001b[39m_engine \u001b[38;5;241m=\u001b[39m \u001b[38;5;28;43mself\u001b[39;49m\u001b[38;5;241;43m.\u001b[39;49m\u001b[43m_make_engine\u001b[49m\u001b[43m(\u001b[49m\u001b[43mf\u001b[49m\u001b[43m,\u001b[49m\u001b[43m \u001b[49m\u001b[38;5;28;43mself\u001b[39;49m\u001b[38;5;241;43m.\u001b[39;49m\u001b[43mengine\u001b[49m\u001b[43m)\u001b[49m\n",
      "File \u001b[1;32mc:\\Users\\utente\\AppData\\Local\\Programs\\Python\\Python312\\Lib\\site-packages\\pandas\\io\\parsers\\readers.py:1880\u001b[0m, in \u001b[0;36mTextFileReader._make_engine\u001b[1;34m(self, f, engine)\u001b[0m\n\u001b[0;32m   1878\u001b[0m     \u001b[38;5;28;01mif\u001b[39;00m \u001b[38;5;124m\"\u001b[39m\u001b[38;5;124mb\u001b[39m\u001b[38;5;124m\"\u001b[39m \u001b[38;5;129;01mnot\u001b[39;00m \u001b[38;5;129;01min\u001b[39;00m mode:\n\u001b[0;32m   1879\u001b[0m         mode \u001b[38;5;241m+\u001b[39m\u001b[38;5;241m=\u001b[39m \u001b[38;5;124m\"\u001b[39m\u001b[38;5;124mb\u001b[39m\u001b[38;5;124m\"\u001b[39m\n\u001b[1;32m-> 1880\u001b[0m \u001b[38;5;28mself\u001b[39m\u001b[38;5;241m.\u001b[39mhandles \u001b[38;5;241m=\u001b[39m \u001b[43mget_handle\u001b[49m\u001b[43m(\u001b[49m\n\u001b[0;32m   1881\u001b[0m \u001b[43m    \u001b[49m\u001b[43mf\u001b[49m\u001b[43m,\u001b[49m\n\u001b[0;32m   1882\u001b[0m \u001b[43m    \u001b[49m\u001b[43mmode\u001b[49m\u001b[43m,\u001b[49m\n\u001b[0;32m   1883\u001b[0m \u001b[43m    \u001b[49m\u001b[43mencoding\u001b[49m\u001b[38;5;241;43m=\u001b[39;49m\u001b[38;5;28;43mself\u001b[39;49m\u001b[38;5;241;43m.\u001b[39;49m\u001b[43moptions\u001b[49m\u001b[38;5;241;43m.\u001b[39;49m\u001b[43mget\u001b[49m\u001b[43m(\u001b[49m\u001b[38;5;124;43m\"\u001b[39;49m\u001b[38;5;124;43mencoding\u001b[39;49m\u001b[38;5;124;43m\"\u001b[39;49m\u001b[43m,\u001b[49m\u001b[43m \u001b[49m\u001b[38;5;28;43;01mNone\u001b[39;49;00m\u001b[43m)\u001b[49m\u001b[43m,\u001b[49m\n\u001b[0;32m   1884\u001b[0m \u001b[43m    \u001b[49m\u001b[43mcompression\u001b[49m\u001b[38;5;241;43m=\u001b[39;49m\u001b[38;5;28;43mself\u001b[39;49m\u001b[38;5;241;43m.\u001b[39;49m\u001b[43moptions\u001b[49m\u001b[38;5;241;43m.\u001b[39;49m\u001b[43mget\u001b[49m\u001b[43m(\u001b[49m\u001b[38;5;124;43m\"\u001b[39;49m\u001b[38;5;124;43mcompression\u001b[39;49m\u001b[38;5;124;43m\"\u001b[39;49m\u001b[43m,\u001b[49m\u001b[43m \u001b[49m\u001b[38;5;28;43;01mNone\u001b[39;49;00m\u001b[43m)\u001b[49m\u001b[43m,\u001b[49m\n\u001b[0;32m   1885\u001b[0m \u001b[43m    \u001b[49m\u001b[43mmemory_map\u001b[49m\u001b[38;5;241;43m=\u001b[39;49m\u001b[38;5;28;43mself\u001b[39;49m\u001b[38;5;241;43m.\u001b[39;49m\u001b[43moptions\u001b[49m\u001b[38;5;241;43m.\u001b[39;49m\u001b[43mget\u001b[49m\u001b[43m(\u001b[49m\u001b[38;5;124;43m\"\u001b[39;49m\u001b[38;5;124;43mmemory_map\u001b[39;49m\u001b[38;5;124;43m\"\u001b[39;49m\u001b[43m,\u001b[49m\u001b[43m \u001b[49m\u001b[38;5;28;43;01mFalse\u001b[39;49;00m\u001b[43m)\u001b[49m\u001b[43m,\u001b[49m\n\u001b[0;32m   1886\u001b[0m \u001b[43m    \u001b[49m\u001b[43mis_text\u001b[49m\u001b[38;5;241;43m=\u001b[39;49m\u001b[43mis_text\u001b[49m\u001b[43m,\u001b[49m\n\u001b[0;32m   1887\u001b[0m \u001b[43m    \u001b[49m\u001b[43merrors\u001b[49m\u001b[38;5;241;43m=\u001b[39;49m\u001b[38;5;28;43mself\u001b[39;49m\u001b[38;5;241;43m.\u001b[39;49m\u001b[43moptions\u001b[49m\u001b[38;5;241;43m.\u001b[39;49m\u001b[43mget\u001b[49m\u001b[43m(\u001b[49m\u001b[38;5;124;43m\"\u001b[39;49m\u001b[38;5;124;43mencoding_errors\u001b[39;49m\u001b[38;5;124;43m\"\u001b[39;49m\u001b[43m,\u001b[49m\u001b[43m \u001b[49m\u001b[38;5;124;43m\"\u001b[39;49m\u001b[38;5;124;43mstrict\u001b[39;49m\u001b[38;5;124;43m\"\u001b[39;49m\u001b[43m)\u001b[49m\u001b[43m,\u001b[49m\n\u001b[0;32m   1888\u001b[0m \u001b[43m    \u001b[49m\u001b[43mstorage_options\u001b[49m\u001b[38;5;241;43m=\u001b[39;49m\u001b[38;5;28;43mself\u001b[39;49m\u001b[38;5;241;43m.\u001b[39;49m\u001b[43moptions\u001b[49m\u001b[38;5;241;43m.\u001b[39;49m\u001b[43mget\u001b[49m\u001b[43m(\u001b[49m\u001b[38;5;124;43m\"\u001b[39;49m\u001b[38;5;124;43mstorage_options\u001b[39;49m\u001b[38;5;124;43m\"\u001b[39;49m\u001b[43m,\u001b[49m\u001b[43m \u001b[49m\u001b[38;5;28;43;01mNone\u001b[39;49;00m\u001b[43m)\u001b[49m\u001b[43m,\u001b[49m\n\u001b[0;32m   1889\u001b[0m \u001b[43m\u001b[49m\u001b[43m)\u001b[49m\n\u001b[0;32m   1890\u001b[0m \u001b[38;5;28;01massert\u001b[39;00m \u001b[38;5;28mself\u001b[39m\u001b[38;5;241m.\u001b[39mhandles \u001b[38;5;129;01mis\u001b[39;00m \u001b[38;5;129;01mnot\u001b[39;00m \u001b[38;5;28;01mNone\u001b[39;00m\n\u001b[0;32m   1891\u001b[0m f \u001b[38;5;241m=\u001b[39m \u001b[38;5;28mself\u001b[39m\u001b[38;5;241m.\u001b[39mhandles\u001b[38;5;241m.\u001b[39mhandle\n",
      "File \u001b[1;32mc:\\Users\\utente\\AppData\\Local\\Programs\\Python\\Python312\\Lib\\site-packages\\pandas\\io\\common.py:873\u001b[0m, in \u001b[0;36mget_handle\u001b[1;34m(path_or_buf, mode, encoding, compression, memory_map, is_text, errors, storage_options)\u001b[0m\n\u001b[0;32m    868\u001b[0m \u001b[38;5;28;01melif\u001b[39;00m \u001b[38;5;28misinstance\u001b[39m(handle, \u001b[38;5;28mstr\u001b[39m):\n\u001b[0;32m    869\u001b[0m     \u001b[38;5;66;03m# Check whether the filename is to be opened in binary mode.\u001b[39;00m\n\u001b[0;32m    870\u001b[0m     \u001b[38;5;66;03m# Binary mode does not support 'encoding' and 'newline'.\u001b[39;00m\n\u001b[0;32m    871\u001b[0m     \u001b[38;5;28;01mif\u001b[39;00m ioargs\u001b[38;5;241m.\u001b[39mencoding \u001b[38;5;129;01mand\u001b[39;00m \u001b[38;5;124m\"\u001b[39m\u001b[38;5;124mb\u001b[39m\u001b[38;5;124m\"\u001b[39m \u001b[38;5;129;01mnot\u001b[39;00m \u001b[38;5;129;01min\u001b[39;00m ioargs\u001b[38;5;241m.\u001b[39mmode:\n\u001b[0;32m    872\u001b[0m         \u001b[38;5;66;03m# Encoding\u001b[39;00m\n\u001b[1;32m--> 873\u001b[0m         handle \u001b[38;5;241m=\u001b[39m \u001b[38;5;28;43mopen\u001b[39;49m\u001b[43m(\u001b[49m\n\u001b[0;32m    874\u001b[0m \u001b[43m            \u001b[49m\u001b[43mhandle\u001b[49m\u001b[43m,\u001b[49m\n\u001b[0;32m    875\u001b[0m \u001b[43m            \u001b[49m\u001b[43mioargs\u001b[49m\u001b[38;5;241;43m.\u001b[39;49m\u001b[43mmode\u001b[49m\u001b[43m,\u001b[49m\n\u001b[0;32m    876\u001b[0m \u001b[43m            \u001b[49m\u001b[43mencoding\u001b[49m\u001b[38;5;241;43m=\u001b[39;49m\u001b[43mioargs\u001b[49m\u001b[38;5;241;43m.\u001b[39;49m\u001b[43mencoding\u001b[49m\u001b[43m,\u001b[49m\n\u001b[0;32m    877\u001b[0m \u001b[43m            \u001b[49m\u001b[43merrors\u001b[49m\u001b[38;5;241;43m=\u001b[39;49m\u001b[43merrors\u001b[49m\u001b[43m,\u001b[49m\n\u001b[0;32m    878\u001b[0m \u001b[43m            \u001b[49m\u001b[43mnewline\u001b[49m\u001b[38;5;241;43m=\u001b[39;49m\u001b[38;5;124;43m\"\u001b[39;49m\u001b[38;5;124;43m\"\u001b[39;49m\u001b[43m,\u001b[49m\n\u001b[0;32m    879\u001b[0m \u001b[43m        \u001b[49m\u001b[43m)\u001b[49m\n\u001b[0;32m    880\u001b[0m     \u001b[38;5;28;01melse\u001b[39;00m:\n\u001b[0;32m    881\u001b[0m         \u001b[38;5;66;03m# Binary mode\u001b[39;00m\n\u001b[0;32m    882\u001b[0m         handle \u001b[38;5;241m=\u001b[39m \u001b[38;5;28mopen\u001b[39m(handle, ioargs\u001b[38;5;241m.\u001b[39mmode)\n",
      "\u001b[1;31mFileNotFoundError\u001b[0m: [Errno 2] No such file or directory: 'C:\\\\Users\\\\utente\\\\Desktop\\\\UNITN\\\\data mining\\\\data bike rentals san jose\\\\trip_data.csv'"
     ]
    }
   ],
   "source": [
    "import pandas as pd\n",
    "data_trip = pd.read_csv(r\"C:\\Users\\utente\\Desktop\\UNITN\\data mining\\data bike rentals san jose\\trip_data.csv\")\n",
    "data_weather = pd.read_csv(r\"C:\\Users\\utente\\Desktop\\UNITN\\data mining\\data bike rentals san jose\\weather_data.csv\")\n",
    "data_station = pd.read_csv(r\"C:\\Users\\utente\\Desktop\\UNITN\\data mining\\data bike rentals san jose\\station_data.csv\")"
   ]
  },
  {
   "cell_type": "markdown",
   "metadata": {},
   "source": [
    "## Step 2: Inspect the Data\n",
    "To understand the structure of the datasets, we display the first 5 rows and the number of rows in each dataset."
   ]
  },
  {
   "cell_type": "code",
   "execution_count": 21,
   "metadata": {},
   "outputs": [
    {
     "name": "stdout",
     "output_type": "stream",
     "text": [
      "   Trip ID        Start Date  Start Station          End Date  End Station  \\\n",
      "0   913460  31/08/2015 23:26             50  31/08/2015 23:39           70   \n",
      "1   913459  31/08/2015 23:11             31  31/08/2015 23:28           27   \n",
      "2   913455  31/08/2015 23:13             47  31/08/2015 23:18           64   \n",
      "3   913454  31/08/2015 23:10             10  31/08/2015 23:17            8   \n",
      "4   913453  31/08/2015 23:09             51  31/08/2015 23:22           60   \n",
      "\n",
      "  Subscriber Type  \n",
      "0      Subscriber  \n",
      "1      Subscriber  \n",
      "2      Subscriber  \n",
      "3      Subscriber  \n",
      "4        Customer  \n",
      "354152\n",
      "         Date  Max TemperatureF  Mean TemperatureF  Min TemperatureF  \\\n",
      "0  01/09/2014              83.0               70.0              57.0   \n",
      "1  02/09/2014              72.0               66.0              60.0   \n",
      "2  03/09/2014              76.0               69.0              61.0   \n",
      "3  04/09/2014              74.0               68.0              61.0   \n",
      "4  05/09/2014              72.0               66.0              60.0   \n",
      "\n",
      "   Max Dew PointF  MeanDew PointF  Min DewpointF  Max Humidity  Mean Humidity  \\\n",
      "0            58.0            56.0           52.0          86.0           64.0   \n",
      "1            58.0            57.0           55.0          84.0           73.0   \n",
      "2            57.0            56.0           55.0          84.0           69.0   \n",
      "3            57.0            57.0           56.0          84.0           71.0   \n",
      "4            57.0            56.0           54.0          84.0           71.0   \n",
      "\n",
      "   Min Humidity  ...  Mean VisibilityMiles  Min VisibilityMiles  \\\n",
      "0          42.0  ...                  10.0                  8.0   \n",
      "1          61.0  ...                  10.0                  7.0   \n",
      "2          53.0  ...                  10.0                 10.0   \n",
      "3          57.0  ...                  10.0                  8.0   \n",
      "4          57.0  ...                   9.0                  7.0   \n",
      "\n",
      "   Max Wind SpeedMPH  Mean Wind SpeedMPH  Max Gust SpeedMPH  PrecipitationIn  \\\n",
      "0               16.0                 7.0               20.0              0.0   \n",
      "1               21.0                 8.0                NaN              0.0   \n",
      "2               21.0                 8.0               24.0              0.0   \n",
      "3               22.0                 8.0               25.0              0.0   \n",
      "4               18.0                 8.0               32.0              0.0   \n",
      "\n",
      "   CloudCover  Events  WindDirDegrees    Zip  \n",
      "0         0.0     NaN           290.0  94107  \n",
      "1         5.0     NaN           290.0  94107  \n",
      "2         4.0     NaN           276.0  94107  \n",
      "3         5.0     NaN           301.0  94107  \n",
      "4         4.0     NaN           309.0  94107  \n",
      "\n",
      "[5 rows x 24 columns]\n",
      "1825\n",
      "   Id                               Name        Lat        Long  Dock Count  \\\n",
      "0   2  San Jose Diridon Caltrain Station  37.329732 -121.901782          27   \n",
      "1   3              San Jose Civic Center  37.330698 -121.888979          15   \n",
      "2   4             Santa Clara at Almaden  37.333988 -121.894902          11   \n",
      "3   5                   Adobe on Almaden  37.331415 -121.893200          19   \n",
      "4   6                   San Pedro Square  37.336721 -121.894074          15   \n",
      "\n",
      "       City  \n",
      "0  San Jose  \n",
      "1  San Jose  \n",
      "2  San Jose  \n",
      "3  San Jose  \n",
      "4  San Jose  \n",
      "76\n"
     ]
    }
   ],
   "source": [
    "print(data_trip.head(5))\n",
    "print(len(data_trip))\n",
    "\n",
    "print(data_weather.head(5))\n",
    "print(len(data_weather))\n",
    "\n",
    "print(data_station.head(5))\n",
    "print(len(data_station))"
   ]
  },
  {
   "cell_type": "code",
   "execution_count": 22,
   "metadata": {},
   "outputs": [
    {
     "name": "stdout",
     "output_type": "stream",
     "text": [
      "Index(['Trip ID', 'Start Date', 'Start Station', 'End Date', 'End Station',\n",
      "       'Subscriber Type'],\n",
      "      dtype='object')\n"
     ]
    }
   ],
   "source": [
    "print(data_trip.columns)\n"
   ]
  },
  {
   "cell_type": "markdown",
   "metadata": {},
   "source": [
    "## Step 3: Preprocessing Trip Data\n",
    "We process the `Start Date` and `End Date` columns to extract:\n",
    "- **Start_date**: The date when the trip started.\n",
    "- **Start_time**: The time when the trip started.\n",
    "- **End_date**: The date when the trip ended.\n",
    "- **End_time**: The time when the trip ended.\n",
    "The original `Start Date` and `End Date` columns are dropped after extraction."
   ]
  },
  {
   "cell_type": "code",
   "execution_count": 23,
   "metadata": {},
   "outputs": [],
   "source": [
    "# Substitute \"Start Date\" with \"Start_date\" and \"Start_time\" columns\n",
    "data_trip[\"Start Date\"] = pd.to_datetime(data_trip[\"Start Date\"], dayfirst=True)\n",
    "\n",
    "data_trip[\"Start_date\"] = data_trip[\"Start Date\"].dt.date\n",
    "data_trip[\"Start_time\"] = data_trip[\"Start Date\"].dt.time\n",
    "\n",
    "data_trip = data_trip.drop(columns=[\"Start Date\"])\n",
    "\n",
    "# Substitute \"End Date\" with \"End_date\" and \"End_time\" columns\n",
    "data_trip[\"End Date\"] = pd.to_datetime(data_trip[\"End Date\"], dayfirst=True)\n",
    "\n",
    "data_trip[\"End_date\"] = data_trip[\"End Date\"].dt.date\n",
    "data_trip[\"End_time\"] = data_trip[\"End Date\"].dt.time\n",
    "\n",
    "data_trip = data_trip.drop(columns=[\"End Date\"])"
   ]
  },
  {
   "cell_type": "markdown",
   "metadata": {},
   "source": [
    "## Step 6: Merging Datasets\n",
    "In this step, we combine the datasets to create a unified view:\n",
    "1. **Merge `data_trip` and `data_weather`:**\n",
    "   - Merge on `Start_date` from `data_trip` and `Date` from `data_weather`.\n",
    "   - Use an inner join to retain only matching rows.\n",
    "2. **Merge `merged_data` with `data_station`:**\n",
    "   - Merge on `Start Station` from `data_trip` and `Id` from `data_station`.\n",
    "   - Use an inner join to include station details.\n",
    "\n",
    "This process creates a combined dataset that links trips, weather data, and station information."
   ]
  },
  {
   "cell_type": "code",
   "execution_count": 24,
   "metadata": {},
   "outputs": [],
   "source": [
    "# Merge datasets data and data weather based on start_date\n",
    "data_trip[\"Start_date\"] = pd.to_datetime(data_trip[\"Start_date\"], dayfirst=True)\n",
    "data_weather[\"Date\"] = pd.to_datetime(data_weather[\"Date\"], dayfirst=True)\n",
    "\n",
    "merged_data = pd.merge(data_trip, data_weather, left_on=\"Start_date\", right_on=\"Date\", \n",
    "                       how=\"inner\")\n",
    "\n",
    "merged_data2 = pd.merge(merged_data, data_station[[\"Id\", \"Name\", \"City\"]], \n",
    "                        left_on=\"Start Station\", right_on=\"Id\", how=\"inner\")"
   ]
  },
  {
   "cell_type": "code",
   "execution_count": 29,
   "metadata": {},
   "outputs": [
    {
     "name": "stdout",
     "output_type": "stream",
     "text": [
      "Final dataset:\n",
      "   Trip ID  Start Station  End Station Subscriber Type Start_date Start_time  \\\n",
      "0   913460             50           70      Subscriber 2015-08-31   23:26:00   \n",
      "1   913460             50           70      Subscriber 2015-08-31   23:26:00   \n",
      "2   913460             50           70      Subscriber 2015-08-31   23:26:00   \n",
      "3   913460             50           70      Subscriber 2015-08-31   23:26:00   \n",
      "\n",
      "     End_date  End_time       Date  Max TemperatureF  ...  Mean Wind SpeedMPH  \\\n",
      "0  2015-08-31  23:39:00 2015-08-31              78.0  ...                 9.0   \n",
      "1  2015-08-31  23:39:00 2015-08-31              80.0  ...                 4.0   \n",
      "2  2015-08-31  23:39:00 2015-08-31              82.0  ...                 8.0   \n",
      "3  2015-08-31  23:39:00 2015-08-31              82.0  ...                 6.0   \n",
      "\n",
      "   Max Gust SpeedMPH  PrecipitationIn  CloudCover  Events  WindDirDegrees  \\\n",
      "0               21.0              0.0         1.0     NaN           246.0   \n",
      "1               20.0              0.0         0.0     NaN           282.0   \n",
      "2                NaN              0.0         0.0     NaN           357.0   \n",
      "3               25.0              0.0         0.0     NaN             6.0   \n",
      "\n",
      "     Zip  Id                                  Name           City  \n",
      "0  94107  50  Harry Bridges Plaza (Ferry Building)  San Francisco  \n",
      "1  94063  50  Harry Bridges Plaza (Ferry Building)  San Francisco  \n",
      "2  94301  50  Harry Bridges Plaza (Ferry Building)  San Francisco  \n",
      "3  94041  50  Harry Bridges Plaza (Ferry Building)  San Francisco  \n",
      "\n",
      "[4 rows x 35 columns] \n",
      "\n",
      "Columns of the final dataset:\n",
      "Index(['Trip ID', 'Start Station', 'End Station', 'Subscriber Type',\n",
      "       'Start_date', 'Start_time', 'End_date', 'End_time', 'Date',\n",
      "       'Max TemperatureF', 'Mean TemperatureF', 'Min TemperatureF',\n",
      "       'Max Dew PointF', 'MeanDew PointF', 'Min DewpointF', 'Max Humidity',\n",
      "       'Mean Humidity', 'Min Humidity', 'Max Sea Level PressureIn',\n",
      "       'Mean Sea Level PressureIn', 'Min Sea Level PressureIn',\n",
      "       'Max VisibilityMiles', 'Mean VisibilityMiles', 'Min VisibilityMiles',\n",
      "       'Max Wind SpeedMPH', 'Mean Wind SpeedMPH', 'Max Gust SpeedMPH',\n",
      "       'PrecipitationIn', 'CloudCover', 'Events', 'WindDirDegrees', 'Zip',\n",
      "       'Id', 'Name', 'City'],\n",
      "      dtype='object')\n",
      "City\n",
      "San Francisco    1605525\n",
      "San Jose           89780\n",
      "Mountain View      49995\n",
      "Palo Alto          15365\n",
      "Redwood City       10095\n",
      "Name: count, dtype: int64\n",
      "Subscriber Type\n",
      "Subscriber    1551085\n",
      "Customer       219675\n",
      "Name: count, dtype: int64\n",
      "1770760\n"
     ]
    }
   ],
   "source": [
    "print(\"Final dataset:\")\n",
    "print(merged_data2.head(4), \"\\n\")\n",
    "print(\"Columns of the final dataset:\")\n",
    "print(merged_data2.columns)\n",
    "print(merged_data2[\"City\"].value_counts())\n",
    "print(merged_data2[\"Subscriber Type\"].value_counts())\n",
    "print(len(merged_data2))"
   ]
  },
  {
   "cell_type": "markdown",
   "metadata": {},
   "source": [
    "## Step 1: Data Preprocessing with Spark\n",
    "In this step I load, clean and merge datasets using Spark"
   ]
  },
  {
   "cell_type": "code",
   "execution_count": 2,
   "metadata": {},
   "outputs": [],
   "source": [
    "from pyspark.sql import SparkSession\n",
    "from pyspark.sql.functions import col, to_timestamp, to_date, date_format, when, count, desc, round, lit, sum, dayofweek, unix_timestamp, avg, hour, floor #ultimo non serve, avg, expr\n",
    "import matplotlib.pyplot as plt\n",
    "import pandas as pd\n",
    "\n",
    "# Initialize Spark session\n",
    "spark = SparkSession.builder.appName(\"BikeShare Data Preprocessing\").getOrCreate()"
   ]
  },
  {
   "cell_type": "markdown",
   "metadata": {},
   "source": [
    "#### Step 1.1: Load datasets"
   ]
  },
  {
   "cell_type": "code",
   "execution_count": 3,
   "metadata": {},
   "outputs": [],
   "source": [
    "trip_data = spark.read.csv(r\"C:\\Users\\utente\\Desktop\\UNITN\\data mining\\Project\\data bike rentals san jose\\trip_data.csv\", header=True, inferSchema=True)\n",
    "station_data = spark.read.csv(r\"C:\\Users\\utente\\Desktop\\UNITN\\data mining\\Project\\data bike rentals san jose\\station_data.csv\", header=True, inferSchema=True)\n",
    "weather_data = spark.read.csv(r\"C:\\Users\\utente\\Desktop\\UNITN\\data mining\\Project\\data bike rentals san jose\\weather_data.csv\", header=True, inferSchema=True)"
   ]
  },
  {
   "cell_type": "markdown",
   "metadata": {},
   "source": [
    "#### Step 1.2: Preprocessing using PySpark\n",
    "TRIP DATA:\n",
    "We process the `Start Date` and `End Date` columns to extract:\n",
    "- **Start_date**: The date when the trip started.\n",
    "- **Start_time**: The time when the trip started.\n",
    "- **End_date**: The date when the trip ended.\n",
    "- **End_time**: The time when the trip ended.\n",
    "\n",
    "The original `Start Date` and `End Date` columns are dropped after extraction."
   ]
  },
  {
   "cell_type": "code",
   "execution_count": 4,
   "metadata": {},
   "outputs": [],
   "source": [
    "# Convert \"Start Date\" and \"End Date\" to timestamp \n",
    "trip_data = trip_data.withColumn(\"Start Date\", to_timestamp(col(\"Start Date\"), \"dd/MM/yyyy HH:mm\")) \\\n",
    "                     .withColumn(\"End Date\", to_timestamp(col(\"End Date\"), \"dd/MM/yyyy HH:mm\"))\n",
    "\n",
    "# Extract Start_date and Start_time\n",
    "trip_data = trip_data.withColumn(\"Start_date\", to_date(col(\"Start Date\"))) \\\n",
    "                     .withColumn(\"Start_time\", date_format(col(\"Start Date\"), \"HH:mm:ss\"))\n",
    "\n",
    "# Extract End_date and End_time\n",
    "trip_data = trip_data.withColumn(\"End_date\", to_date(col(\"End Date\"))) \\\n",
    "                     .withColumn(\"End_time\", date_format(col(\"End Date\"), \"HH:mm:ss\"))\n",
    "\n",
    "trip_data = trip_data.drop(\"Start Date\", \"End Date\")\n",
    "# trip_data.show(5)"
   ]
  },
  {
   "cell_type": "markdown",
   "metadata": {},
   "source": [
    "WEATHER DATA: Convert the Date column to date type (necessary for comparison with other dates)"
   ]
  },
  {
   "cell_type": "code",
   "execution_count": 5,
   "metadata": {},
   "outputs": [],
   "source": [
    "weather_data = weather_data.withColumn(\"Date\", to_date(col(\"Date\"), \"dd/MM/yyyy\"))\n",
    "# weather_data.select(\"Date\").show(5)"
   ]
  },
  {
   "cell_type": "markdown",
   "metadata": {},
   "source": [
    "STATION DATA: Define the city-to-zip mapping directly as a dictionary and replace the `City` column with mapped Zip codes"
   ]
  },
  {
   "cell_type": "code",
   "execution_count": 6,
   "metadata": {},
   "outputs": [],
   "source": [
    "city_to_zip = {\n",
    "    \"San Francisco\": \"94107\",\n",
    "    \"Redwood City\": \"94063\",\n",
    "    \"Palo Alto\": \"94301\",\n",
    "    \"Mountain View\": \"94041\",\n",
    "    \"San Jose\": \"95113\"\n",
    "}\n",
    "\n",
    "# Start with the existing DataFrame\n",
    "station_data_updated = station_data\n",
    "\n",
    "# Replace city values with zip codes\n",
    "for city, zip_code in city_to_zip.items():\n",
    "    station_data_updated = station_data_updated.withColumn(\n",
    "        \"city\",\n",
    "        when(col(\"city\") == city, zip_code).otherwise(col(\"city\"))\n",
    "    )\n"
   ]
  },
  {
   "cell_type": "code",
   "execution_count": 7,
   "metadata": {},
   "outputs": [
    {
     "data": {
      "text/html": [
       "<div>\n",
       "<style scoped>\n",
       "    .dataframe tbody tr th:only-of-type {\n",
       "        vertical-align: middle;\n",
       "    }\n",
       "\n",
       "    .dataframe tbody tr th {\n",
       "        vertical-align: top;\n",
       "    }\n",
       "\n",
       "    .dataframe thead th {\n",
       "        text-align: right;\n",
       "    }\n",
       "</style>\n",
       "<table border=\"1\" class=\"dataframe\">\n",
       "  <thead>\n",
       "    <tr style=\"text-align: right;\">\n",
       "      <th></th>\n",
       "      <th>Id</th>\n",
       "      <th>Name</th>\n",
       "      <th>Lat</th>\n",
       "      <th>Long</th>\n",
       "      <th>Dock Count</th>\n",
       "      <th>city</th>\n",
       "    </tr>\n",
       "  </thead>\n",
       "  <tbody>\n",
       "    <tr>\n",
       "      <th>0</th>\n",
       "      <td>2</td>\n",
       "      <td>San Jose Diridon Caltrain Station</td>\n",
       "      <td>37.329732</td>\n",
       "      <td>-121.901782</td>\n",
       "      <td>27</td>\n",
       "      <td>95113</td>\n",
       "    </tr>\n",
       "    <tr>\n",
       "      <th>1</th>\n",
       "      <td>3</td>\n",
       "      <td>San Jose Civic Center</td>\n",
       "      <td>37.330698</td>\n",
       "      <td>-121.888979</td>\n",
       "      <td>15</td>\n",
       "      <td>95113</td>\n",
       "    </tr>\n",
       "    <tr>\n",
       "      <th>2</th>\n",
       "      <td>4</td>\n",
       "      <td>Santa Clara at Almaden</td>\n",
       "      <td>37.333988</td>\n",
       "      <td>-121.894902</td>\n",
       "      <td>11</td>\n",
       "      <td>95113</td>\n",
       "    </tr>\n",
       "    <tr>\n",
       "      <th>3</th>\n",
       "      <td>5</td>\n",
       "      <td>Adobe on Almaden</td>\n",
       "      <td>37.331415</td>\n",
       "      <td>-121.893200</td>\n",
       "      <td>19</td>\n",
       "      <td>95113</td>\n",
       "    </tr>\n",
       "    <tr>\n",
       "      <th>4</th>\n",
       "      <td>6</td>\n",
       "      <td>San Pedro Square</td>\n",
       "      <td>37.336721</td>\n",
       "      <td>-121.894074</td>\n",
       "      <td>15</td>\n",
       "      <td>95113</td>\n",
       "    </tr>\n",
       "  </tbody>\n",
       "</table>\n",
       "</div>"
      ],
      "text/plain": [
       "   Id                               Name        Lat        Long  Dock Count  \\\n",
       "0   2  San Jose Diridon Caltrain Station  37.329732 -121.901782          27   \n",
       "1   3              San Jose Civic Center  37.330698 -121.888979          15   \n",
       "2   4             Santa Clara at Almaden  37.333988 -121.894902          11   \n",
       "3   5                   Adobe on Almaden  37.331415 -121.893200          19   \n",
       "4   6                   San Pedro Square  37.336721 -121.894074          15   \n",
       "\n",
       "    city  \n",
       "0  95113  \n",
       "1  95113  \n",
       "2  95113  \n",
       "3  95113  \n",
       "4  95113  "
      ]
     },
     "execution_count": 7,
     "metadata": {},
     "output_type": "execute_result"
    }
   ],
   "source": [
    "# to be deleted\n",
    "# Convert a sample to Pandas for easier inspection\n",
    "station_data_updated.limit(5).toPandas()\n"
   ]
  },
  {
   "cell_type": "markdown",
   "metadata": {},
   "source": [
    "#### Step 1.3: Merge datasets using SQL queries"
   ]
  },
  {
   "cell_type": "code",
   "execution_count": 8,
   "metadata": {},
   "outputs": [],
   "source": [
    "# Register dataframes as temporary SQL views\n",
    "trip_data.createOrReplaceTempView(\"trip\")\n",
    "weather_data.createOrReplaceTempView(\"weather\")\n",
    "station_data_updated.createOrReplaceTempView(\"station\") "
   ]
  },
  {
   "cell_type": "code",
   "execution_count": 9,
   "metadata": {},
   "outputs": [
    {
     "name": "stdout",
     "output_type": "stream",
     "text": [
      "Trip data rows: 354152\n",
      "Weather data rows: 1825\n",
      "Station data rows: 76\n"
     ]
    }
   ],
   "source": [
    "# to be deleted\n",
    "print(f\"Trip data rows: {trip_data.count()}\")\n",
    "print(f\"Weather data rows: {weather_data.count()}\")\n",
    "print(f\"Station data rows: {station_data.count()}\")"
   ]
  },
  {
   "cell_type": "code",
   "execution_count": 10,
   "metadata": {},
   "outputs": [
    {
     "name": "stdout",
     "output_type": "stream",
     "text": [
      "+-------+-------------+-----------+---------------+----------+----------+----------+--------+----------------+-----------------+----------------+--------------+--------------+-------------+------------+-------------+------------+------------------------+-------------------------+------------------------+-------------------+--------------------+-------------------+-----------------+------------------+-----------------+---------------+----------+--------------+-----------------+-----+--------------------+------------------+---------+-----------+----------------+------------------+----------------+---------+-----------+--------------+\n",
      "|Trip ID|Start Station|End Station|Subscriber Type|Start_date|  End_date|Start_time|End_time|Max TemperatureF|Mean TemperatureF|Min TemperatureF|Max Dew PointF|MeanDew PointF|Min DewpointF|Max Humidity|Mean Humidity|Min Humidity|Max Sea Level PressureIn|Mean Sea Level PressureIn|Min Sea Level PressureIn|Max VisibilityMiles|Mean VisibilityMiles|Min VisibilityMiles|Max Wind SpeedMPH|Mean Wind SpeedMPH|Max Gust SpeedMPH|PrecipitationIn|CloudCover|WindDirDegrees|           Events|  Zip|  Start_Station_Name|Start_Station_City|Start_Lat| Start_Long|Start_dock_count|  End_Station_Name|End_Station_City|  End_Lat|   End_Long|End_dock_count|\n",
      "+-------+-------------+-----------+---------------+----------+----------+----------+--------+----------------+-----------------+----------------+--------------+--------------+-------------+------------+-------------+------------+------------------------+-------------------------+------------------------+-------------------+--------------------+-------------------+-----------------+------------------+-----------------+---------------+----------+--------------+-----------------+-----+--------------------+------------------+---------+-----------+----------------+------------------+----------------+---------+-----------+--------------+\n",
      "| 910956|           45|         39|     Subscriber|2015-08-29|2015-08-29|  14:20:00|14:29:00|              76|               71|              65|            66|            62|           57|          87|           73|          58|                   30.01|                    29.98|                   29.93|                 10|                   9|                  3|               21|                11|               25|          0.001|         6|           260|             Rain|94107|Commercial at Mon...|             94107|37.794231|-122.402923|              15|Powell Street BART|           94107|37.783871|-122.408433|            19|\n",
      "| 910916|           67|         76|       Customer|2015-08-29|2015-08-29|  13:17:00|13:25:00|              76|               71|              65|            66|            62|           57|          87|           73|          58|                   30.01|                    29.98|                   29.93|                 10|                   9|                  3|               21|                11|               25|          0.001|         6|           260|             Rain|94107|      Market at 10th|             94107|37.776619|-122.417385|              27|     Market at 4th|           94107|37.786305|-122.404966|            19|\n",
      "| 879232|           70|         76|     Subscriber|2015-08-06|2015-08-06|  17:48:00|17:56:00|              72|               65|              58|            58|            57|           54|          93|           77|          61|                   29.93|                    29.87|                    29.8|                 10|                  10|                  7|               21|                 8|               24|          0.001|         5|           309|Rain-Thunderstorm|94107|San Francisco Cal...|             94107|37.776617| -122.39526|              19|     Market at 4th|           94107|37.786305|-122.404966|            19|\n",
      "| 879127|           63|         74|     Subscriber|2015-08-06|2015-08-06|  17:09:00|17:13:00|              72|               65|              58|            58|            57|           54|          93|           77|          61|                   29.93|                    29.87|                    29.8|                 10|                  10|                  7|               21|                 8|               24|          0.001|         5|           309|Rain-Thunderstorm|94107|       Howard at 2nd|             94107|37.786978|-122.398108|              19| Steuart at Market|           94107|37.794139|-122.394434|            23|\n",
      "| 879034|           82|         64|     Subscriber|2015-08-06|2015-08-06|  16:48:00|16:58:00|              72|               65|              58|            58|            57|           54|          93|           77|          61|                   29.93|                    29.87|                    29.8|                 10|                  10|                  7|               21|                 8|               24|          0.001|         5|           309|Rain-Thunderstorm|94107|Broadway St at Ba...|             94107|37.798541|-122.400862|              15| 2nd at South Park|           94107|37.782259|-122.392738|            15|\n",
      "+-------+-------------+-----------+---------------+----------+----------+----------+--------+----------------+-----------------+----------------+--------------+--------------+-------------+------------+-------------+------------+------------------------+-------------------------+------------------------+-------------------+--------------------+-------------------+-----------------+------------------+-----------------+---------------+----------+--------------+-----------------+-----+--------------------+------------------+---------+-----------+----------------+------------------+----------------+---------+-----------+--------------+\n",
      "only showing top 5 rows\n",
      "\n"
     ]
    }
   ],
   "source": [
    "final_data = spark.sql(\"\"\"\n",
    "    SELECT DISTINCT\n",
    "        -- Trip details\n",
    "        t.`Trip ID`, t.`Start Station`, t.`End Station`, t.`Subscriber Type`, t.`Start_date`, \n",
    "        t.`End_date`, t.`Start_time`, t.`End_time`, \n",
    "        \n",
    "        -- Weather details\n",
    "        w.`Max TemperatureF`, w.`Mean TemperatureF`, w.`Min TemperatureF`, w.`Max Dew PointF`,     \n",
    "        w.`MeanDew PointF`, w.`Min DewpointF`, w.`Max Humidity`, w.`Mean Humidity`,     \n",
    "        w.`Min Humidity`, w.`Max Sea Level PressureIn`, w.`Mean Sea Level PressureIn`, \n",
    "        w.`Min Sea Level PressureIn`, w.`Max VisibilityMiles`, w.`Mean VisibilityMiles`, \n",
    "        w.`Min VisibilityMiles`, w.`Max Wind SpeedMPH`, w.`Mean Wind SpeedMPH`, w.`Max Gust SpeedMPH`,\n",
    "        w.`PrecipitationIn`, w.`CloudCover`, w.`WindDirDegrees`, w.`Events`, w.`Zip`,\n",
    "                       \n",
    "        -- Station details\n",
    "        s1.Name AS Start_Station_Name, s1.City AS Start_Station_City, s1.Lat AS Start_Lat,\n",
    "        s1.Long AS Start_Long, s1.`Dock Count` AS Start_dock_count,\n",
    "        s2.Name AS End_Station_Name, s2.City AS End_Station_City, s2.Lat AS End_Lat,\n",
    "        s2.Long AS End_Long, s2.`Dock Count` AS End_dock_count\n",
    "    FROM \n",
    "        trip t\n",
    "    INNER JOIN station s1 ON t.`Start Station` = s1.Id\n",
    "    INNER JOIN station s2 ON t.`End Station` = s2.Id\n",
    "    INNER JOIN weather w \n",
    "        ON t.Start_date = w.Date AND s1.City = w.`Zip`\n",
    "\"\"\"\n",
    ")\n",
    "\n",
    "# Show the final merged data\n",
    "final_data.show(5)\n"
   ]
  },
  {
   "cell_type": "code",
   "execution_count": 11,
   "metadata": {},
   "outputs": [
    {
     "name": "stdout",
     "output_type": "stream",
     "text": [
      "Final data rows: 354152\n"
     ]
    }
   ],
   "source": [
    "# to be deleted\n",
    "print(f\"Final data rows: {final_data.count()}\")"
   ]
  },
  {
   "cell_type": "markdown",
   "metadata": {},
   "source": [
    "#### Step 1.4: Inspect missing values (still to decide what to do about it)"
   ]
  },
  {
   "cell_type": "code",
   "execution_count": 11,
   "metadata": {},
   "outputs": [
    {
     "name": "stdout",
     "output_type": "stream",
     "text": [
      "+-------+-------------+-----------+---------------+----------+--------+----------+--------+----------------+-----------------+----------------+--------------+--------------+-------------+------------+-------------+------------+------------------------+-------------------------+------------------------+-------------------+--------------------+-------------------+-----------------+------------------+-----------------+---------------+----------+--------------+------+---+------------------+------------------+---------+----------+----------------+----------------+----------------+-------+--------+--------------+\n",
      "|Trip ID|Start Station|End Station|Subscriber Type|Start_date|End_date|Start_time|End_time|Max TemperatureF|Mean TemperatureF|Min TemperatureF|Max Dew PointF|MeanDew PointF|Min DewpointF|Max Humidity|Mean Humidity|Min Humidity|Max Sea Level PressureIn|Mean Sea Level PressureIn|Min Sea Level PressureIn|Max VisibilityMiles|Mean VisibilityMiles|Min VisibilityMiles|Max Wind SpeedMPH|Mean Wind SpeedMPH|Max Gust SpeedMPH|PrecipitationIn|CloudCover|WindDirDegrees|Events|Zip|Start_Station_Name|Start_Station_City|Start_Lat|Start_Long|Start_dock_count|End_Station_Name|End_Station_City|End_Lat|End_Long|End_dock_count|\n",
      "+-------+-------------+-----------+---------------+----------+--------+----------+--------+----------------+-----------------+----------------+--------------+--------------+-------------+------------+-------------+------------+------------------------+-------------------------+------------------------+-------------------+--------------------+-------------------+-----------------+------------------+-----------------+---------------+----------+--------------+------+---+------------------+------------------+---------+----------+----------------+----------------+----------------+-------+--------+--------------+\n",
      "|      0|            0|          0|              0|         0|       0|         0|       0|              66|               66|              66|           311|           311|          311|         311|          311|         311|                      14|                       14|                      14|                 53|                  53|                 53|               14|                14|            11168|             14|        14|            14|276450|  0|                 0|                 0|        0|         0|               0|               0|               0|      0|       0|             0|\n",
      "+-------+-------------+-----------+---------------+----------+--------+----------+--------+----------------+-----------------+----------------+--------------+--------------+-------------+------------+-------------+------------+------------------------+-------------------------+------------------------+-------------------+--------------------+-------------------+-----------------+------------------+-----------------+---------------+----------+--------------+------+---+------------------+------------------+---------+----------+----------------+----------------+----------------+-------+--------+--------------+\n",
      "\n"
     ]
    }
   ],
   "source": [
    "# Count missing values for all columns\n",
    "missing_values = final_data.select(\n",
    "    [count(when(col(c).isNull(), c)).alias(c) for c in final_data.columns]\n",
    ")\n",
    "\n",
    "# Show the count of missing values for each column\n",
    "missing_values.show()\n"
   ]
  },
  {
   "cell_type": "code",
   "execution_count": 12,
   "metadata": {},
   "outputs": [
    {
     "name": "stdout",
     "output_type": "stream",
     "text": [
      "+----------+-----+\n",
      "|Start_date|count|\n",
      "+----------+-----+\n",
      "|2015-05-01|   33|\n",
      "|2015-08-08|   14|\n",
      "|2015-05-03|   11|\n",
      "|2015-05-02|    8|\n",
      "+----------+-----+\n",
      "\n"
     ]
    }
   ],
   "source": [
    "# Filter rows with missing weather data\n",
    "missing_weather_rows = final_data.filter(\n",
    "    (col(\"Max TemperatureF\").isNull()) |\n",
    "    (col(\"Mean TemperatureF\").isNull())|\n",
    "    (col(\"Min TemperatureF\").isNull())\n",
    ")\n",
    "\n",
    "missing_weather_rows.groupBy(\"Start_date\").count().orderBy(desc(\"count\")).show()"
   ]
  },
  {
   "cell_type": "markdown",
   "metadata": {},
   "source": [
    "From this output we learn that missing values in temperature are due to the fact that for some specific days we dont have weather info, these days are the 4 in the output."
   ]
  },
  {
   "cell_type": "code",
   "execution_count": 13,
   "metadata": {},
   "outputs": [
    {
     "name": "stdout",
     "output_type": "stream",
     "text": [
      "+----------+-----+\n",
      "|Start_date|count|\n",
      "+----------+-----+\n",
      "|2015-05-01|   33|\n",
      "|2015-08-08|   14|\n",
      "|2014-09-10|   14|\n",
      "|2014-12-08|   14|\n",
      "|2014-11-10|   13|\n",
      "|2014-10-14|   12|\n",
      "|2014-11-25|   11|\n",
      "|2015-05-03|   11|\n",
      "|2014-11-24|   11|\n",
      "|2014-09-19|   11|\n",
      "+----------+-----+\n",
      "only showing top 10 rows\n",
      "\n"
     ]
    }
   ],
   "source": [
    "# Filter rows with missing weather data\n",
    "missing_weather_rows = final_data.filter(\n",
    "    (col(\"Max TemperatureF\").isNull()) |\n",
    "    (col(\"Mean TemperatureF\").isNull())|\n",
    "    (col(\"Min TemperatureF\").isNull())|\n",
    "    (col(\"Max Dew PointF\").isNull()) |\n",
    "    (col(\"MeanDew PointF\").isNull())|\n",
    "    (col(\"Min DewpointF\").isNull())\n",
    ")\n",
    "\n",
    "missing_weather_rows.groupBy(\"Start_date\").count().orderBy(desc(\"count\")).show(10)"
   ]
  },
  {
   "cell_type": "markdown",
   "metadata": {},
   "source": [
    "Looking at other variables for weather many more days present missing values. I could do imputation using the days close to the missing ones (?)"
   ]
  },
  {
   "cell_type": "markdown",
   "metadata": {},
   "source": [
    "#### Step 1.5: Implement MapReduce for different tasks\n",
    "- Identify the stations with the highest combined activity (pickups and returns)"
   ]
  },
  {
   "cell_type": "code",
   "execution_count": 23,
   "metadata": {},
   "outputs": [
    {
     "name": "stdout",
     "output_type": "stream",
     "text": [
      "Busiest Stations:\n",
      "+-------+-------+-------+--------------+\n",
      "|Station|Pickups|Returns|Total Activity|\n",
      "+-------+-------+-------+--------------+\n",
      "|     70|  26304|  34810|         61114|\n",
      "|     50|  17255|  17810|         35065|\n",
      "|     61|  14026|  15463|         29489|\n",
      "|     60|  14158|  15065|         29223|\n",
      "|     65|  13752|  15422|         29174|\n",
      "+-------+-------+-------+--------------+\n",
      "only showing top 5 rows\n",
      "\n"
     ]
    }
   ],
   "source": [
    "#   WITHOUT USING MAPREDUCE IMPLEMENTATION\n",
    "# Count of rentals starting and ending from and at each station\n",
    "rentals_by_start_station = final_data.groupBy(\"Start Station\").count().withColumnRenamed(\"count\", \"Start Rentals\")\n",
    "\n",
    "rentals_by_end_station = final_data.groupBy(\"End Station\").count().withColumnRenamed(\"count\", \"End Rentals\")\n",
    "\n",
    "# Rename columns to standardize \"Station\" before the join\n",
    "rentals_by_start_station = rentals_by_start_station.withColumnRenamed(\"Start Station\", \"Station\") \\\n",
    "                                                   .withColumnRenamed(\"Start Rentals\", \"Pickups\")\n",
    "\n",
    "rentals_by_end_station = rentals_by_end_station.withColumnRenamed(\"End Station\", \"Station\") \\\n",
    "                                               .withColumnRenamed(\"End Rentals\", \"Returns\")\n",
    "\n",
    "# Perform the outer join on \"Station\"\n",
    "busiest_stations = rentals_by_start_station.join(\n",
    "    rentals_by_end_station,\n",
    "    on=\"Station\",\n",
    "    how=\"outer\"\n",
    ").fillna(0)  # Replace null values with 0\n",
    "\n",
    "# Add a new column for total activity\n",
    "busiest_stations = busiest_stations.withColumn(\"Total Activity\", col(\"Pickups\") + col(\"Returns\"))\n",
    "\n",
    "# Order by Total Activity in descending order\n",
    "busiest_stations = busiest_stations.orderBy(col(\"Total Activity\").desc())\n",
    "\n",
    "# Show the results\n",
    "print(\"Busiest Stations:\")\n",
    "busiest_stations.show(5)"
   ]
  },
  {
   "cell_type": "code",
   "execution_count": 26,
   "metadata": {},
   "outputs": [
    {
     "name": "stdout",
     "output_type": "stream",
     "text": [
      "+-------+-------+-------+--------------+\n",
      "|Station|Pickups|Returns|Total Activity|\n",
      "+-------+-------+-------+--------------+\n",
      "|     70|  26304|  34810|         61114|\n",
      "|     50|  17255|  17810|         35065|\n",
      "|     61|  14026|  15463|         29489|\n",
      "|     60|  14158|  15065|         29223|\n",
      "|     65|  13752|  15422|         29174|\n",
      "+-------+-------+-------+--------------+\n",
      "only showing top 5 rows\n",
      "\n"
     ]
    }
   ],
   "source": [
    "# 1. Map Phase: Create key-value pairs for pickups and returns\n",
    "pickups = final_data.select(\n",
    "    col(\"Start Station\").alias(\"Station\")\n",
    ").withColumn(\"Pickups\", lit(1)).withColumn(\"Returns\", lit(0))\n",
    "\n",
    "returns = final_data.select(\n",
    "    col(\"End Station\").alias(\"Station\")\n",
    ").withColumn(\"Returns\", lit(1)).withColumn(\"Pickups\", lit(0))\n",
    "\n",
    "# 2. Shuffle Phase: Combine all records by station\n",
    "# Ensure both DataFrames have the same schema\n",
    "combined = pickups.unionByName(returns)\n",
    "\n",
    "# 3. Reduce Phase: Aggregate counts for pickups and returns\n",
    "station_activity = combined.groupBy(\"Station\").agg(\n",
    "    sum(\"Pickups\").alias(\"Pickups\"),\n",
    "    sum(\"Returns\").alias(\"Returns\")\n",
    ")\n",
    "\n",
    "# 4. Add Total Activity Column\n",
    "station_activity = station_activity.withColumn(\n",
    "    \"Total Activity\", col(\"Pickups\") + col(\"Returns\")\n",
    ")\n",
    "\n",
    "# 5. Sort by Total Activity in Descending Order\n",
    "busiest_stations = station_activity.orderBy(col(\"Total Activity\").desc())\n",
    "\n",
    "# Show the results\n",
    "busiest_stations.show(5)\n"
   ]
  },
  {
   "cell_type": "markdown",
   "metadata": {},
   "source": [
    "The top 5 busiest stations are 70, 50, 61, 60, 65"
   ]
  },
  {
   "cell_type": "markdown",
   "metadata": {},
   "source": [
    "- IDENTIFY THE MOST POPULAR ROUTES:\n",
    "Instead of looking at stations individually, analyze the most frequently traveled routes (Start Station → End Station) to understand the most commonly used paths"
   ]
  },
  {
   "cell_type": "code",
   "execution_count": 29,
   "metadata": {},
   "outputs": [
    {
     "name": "stdout",
     "output_type": "stream",
     "text": [
      "+-------------+-----------+----------+\n",
      "|Start Station|End Station|Trip Count|\n",
      "+-------------+-----------+----------+\n",
      "|           50|         60|      3145|\n",
      "|           61|         50|      2973|\n",
      "|           50|         61|      2640|\n",
      "|           51|         70|      2439|\n",
      "|           74|         61|      2356|\n",
      "+-------------+-----------+----------+\n",
      "only showing top 5 rows\n",
      "\n"
     ]
    }
   ],
   "source": [
    "#   WITHOUT USING MAPREDUCE \n",
    "# Group by Start Station and End Station to count routes\n",
    "popular_routes = final_data.groupBy(\"Start Station\", \"End Station\").count().withColumnRenamed(\"count\", \"Trip Count\")\n",
    "\n",
    "# Sort by Trip Count in descending order\n",
    "popular_routes = popular_routes.orderBy(col(\"Trip Count\").desc())\n",
    "\n",
    "popular_routes.show(5)"
   ]
  },
  {
   "cell_type": "code",
   "execution_count": 31,
   "metadata": {},
   "outputs": [
    {
     "name": "stdout",
     "output_type": "stream",
     "text": [
      "+-------------+-----------+----------+\n",
      "|Start Station|End Station|Trip Count|\n",
      "+-------------+-----------+----------+\n",
      "|           50|         60|      3145|\n",
      "|           61|         50|      2973|\n",
      "|           50|         61|      2640|\n",
      "|           51|         70|      2439|\n",
      "|           74|         61|      2356|\n",
      "+-------------+-----------+----------+\n",
      "only showing top 5 rows\n",
      "\n"
     ]
    }
   ],
   "source": [
    "# 1. Map Phase: Create key-value pairs for routes\n",
    "routes = final_data.select(col(\"Start Station\"), col(\"End Station\")).withColumn(\"Count\", lit(1))\n",
    "\n",
    "# 2. Shuffle and Reduce Phase: Group by route and sum counts\n",
    "route_counts = routes.groupBy(\"Start Station\", \"End Station\").agg(sum(\"Count\").alias(\"Trip Count\"))\n",
    "\n",
    "# 3. Sort by Trip Count in descending order\n",
    "popular_routes = route_counts.orderBy(col(\"Trip Count\").desc())\n",
    "\n",
    "popular_routes.show(5)\n"
   ]
  },
  {
   "cell_type": "markdown",
   "metadata": {},
   "source": [
    "The top 5 busiest stations are 70, 50, 61, 60, 65. Intuitlively the most common routes are the one between those stations"
   ]
  },
  {
   "cell_type": "markdown",
   "metadata": {},
   "source": [
    "- TRIPS BY WEEK DAY: Analyze how trip volume varies by the day of the week."
   ]
  },
  {
   "cell_type": "code",
   "execution_count": null,
   "metadata": {},
   "outputs": [
    {
     "name": "stdout",
     "output_type": "stream",
     "text": [
      "+-------------+--------------------+-----------+\n",
      "|Start_weekday|Start_weekday_mapped|Total Trips|\n",
      "+-------------+--------------------+-----------+\n",
      "|       Monday|                   1|      63718|\n",
      "|      Tuesday|                   2|      66503|\n",
      "|    Wednesday|                   3|      65285|\n",
      "|     Thursday|                   4|      63184|\n",
      "|       Friday|                   5|      57808|\n",
      "|     Saturday|                   6|      20935|\n",
      "|       Sunday|                   7|      16719|\n",
      "+-------------+--------------------+-----------+\n",
      "\n"
     ]
    }
   ],
   "source": [
    "# Add a column for the weekday number (1 = Sunday, ..., 7 = Saturday)\n",
    "final_data = final_data.withColumn(\"Start_weekday_num\", dayofweek(col(\"Start_date\")))\n",
    "\n",
    "# Remap weekday numbers so Monday = 1, Sunday = 7\n",
    "final_data = final_data.withColumn(\n",
    "    \"Start_weekday_mapped\",\n",
    "    when(col(\"Start_weekday_num\") == 2, 1)  # Monday\n",
    "    .when(col(\"Start_weekday_num\") == 3, 2)  # Tuesday\n",
    "    .when(col(\"Start_weekday_num\") == 4, 3)  # Wednesday\n",
    "    .when(col(\"Start_weekday_num\") == 5, 4)  # Thursday\n",
    "    .when(col(\"Start_weekday_num\") == 6, 5)  # Friday\n",
    "    .when(col(\"Start_weekday_num\") == 7, 6)  # Saturday\n",
    "    .when(col(\"Start_weekday_num\") == 1, 7)  # Sunday\n",
    ")\n",
    "\n",
    "# Map the new weekday numbers to their names\n",
    "final_data = final_data.withColumn(\n",
    "    \"Start_weekday\",\n",
    "    when(col(\"Start_weekday_mapped\") == 1, \"Monday\")\n",
    "    .when(col(\"Start_weekday_mapped\") == 2, \"Tuesday\")\n",
    "    .when(col(\"Start_weekday_mapped\") == 3, \"Wednesday\")\n",
    "    .when(col(\"Start_weekday_mapped\") == 4, \"Thursday\")\n",
    "    .when(col(\"Start_weekday_mapped\") == 5, \"Friday\")\n",
    "    .when(col(\"Start_weekday_mapped\") == 6, \"Saturday\")\n",
    "    .when(col(\"Start_weekday_mapped\") == 7, \"Sunday\")\n",
    ")\n",
    "\n",
    "# Group by the new weekday column and include mapped values\n",
    "trips_by_weekday = final_data.groupBy(\"Start_weekday\", \"Start_weekday_mapped\").count().withColumnRenamed(\"count\", \"Total Trips\")\n",
    "\n",
    "# Sort by Start_weekday_mapped to ensure Monday is first\n",
    "trips_by_weekday = trips_by_weekday.orderBy(\"Start_weekday_mapped\")\n",
    "\n",
    "trips_by_weekday.show()\n"
   ]
  },
  {
   "cell_type": "markdown",
   "metadata": {},
   "source": [
    "- AVERAGE TRIP DURATION BY STATION"
   ]
  },
  {
   "cell_type": "code",
   "execution_count": 38,
   "metadata": {},
   "outputs": [
    {
     "name": "stdout",
     "output_type": "stream",
     "text": [
      "Average Trip Duration by Station (Start and End):\n",
      "+-------+------------------------+------------+\n",
      "|Station|Avg Trip Duration (mins)|Station Type|\n",
      "+-------+------------------------+------------+\n",
      "|     35|                   50.69|         End|\n",
      "|     25|                   50.11|       Start|\n",
      "|     35|                   41.34|       Start|\n",
      "|     83|                   30.52|         End|\n",
      "|     36|                    30.4|         End|\n",
      "+-------+------------------------+------------+\n",
      "only showing top 5 rows\n",
      "\n"
     ]
    }
   ],
   "source": [
    "# Convert to timestamp\n",
    "final_data = final_data.withColumn(\"Start_time\", to_timestamp(col(\"Start_time\"))) \\\n",
    "                       .withColumn(\"End_time\", to_timestamp(col(\"End_time\")))\n",
    "\n",
    "# Calculate trip duration in minutes\n",
    "final_data = final_data.withColumn(\"Trip_Duration\", \n",
    "    (unix_timestamp(col(\"End_time\")) - unix_timestamp(col(\"Start_time\"))) / 60)\n",
    "\n",
    "# Average trip duration by Start Station\n",
    "avg_trip_duration_start = final_data.groupBy(\"Start Station\").agg(\n",
    "    avg(\"Trip_Duration\").alias(\"Avg Trip Duration (mins)\")\n",
    ").withColumnRenamed(\"Start Station\", \"Station\").withColumn(\"Station Type\", lit(\"Start\"))\n",
    "\n",
    "# Average trip duration by End Station\n",
    "avg_trip_duration_end = final_data.groupBy(\"End Station\").agg(\n",
    "    avg(\"Trip_Duration\").alias(\"Avg Trip Duration (mins)\")\n",
    ").withColumnRenamed(\"End Station\", \"Station\").withColumn(\"Station Type\", lit(\"End\"))\n",
    "\n",
    "# Combine results for Start and End Stations\n",
    "avg_trip_duration_combined = avg_trip_duration_start.union(avg_trip_duration_end)\n",
    "\n",
    "# Sort by Avg Trip Duration in descending order\n",
    "avg_trip_duration_combined = avg_trip_duration_combined.withColumn(\"Avg Trip Duration (mins)\", round(col(\"Avg Trip Duration (mins)\"), 2)).orderBy(col(\"Avg Trip Duration (mins)\").desc())\n",
    "\n",
    "print(\"Average Trip Duration by Station (Start and End):\")\n",
    "avg_trip_duration_combined.show(5)\n"
   ]
  },
  {
   "cell_type": "code",
   "execution_count": 39,
   "metadata": {},
   "outputs": [
    {
     "name": "stdout",
     "output_type": "stream",
     "text": [
      "+-------+------------+------------------------+\n",
      "|Station|Station Type|Avg Trip Duration (mins)|\n",
      "+-------+------------+------------------------+\n",
      "|     35|         End|      50.693370165745854|\n",
      "|     25|       Start|      50.111111111111114|\n",
      "|     35|       Start|      41.337190082644625|\n",
      "|     83|         End|      30.517241379310345|\n",
      "|     36|         End|      30.401209677419356|\n",
      "+-------+------------+------------------------+\n",
      "only showing top 5 rows\n",
      "\n"
     ]
    }
   ],
   "source": [
    "# 1. Map Phase: Calculate Trip Duration and Create Key-Value Pairs\n",
    "mapped_start = final_data.withColumn(\"Trip_Duration\", \n",
    "    (unix_timestamp(col(\"End_time\")) - unix_timestamp(col(\"Start_time\"))) / 60\n",
    ").select(\n",
    "    col(\"Start Station\").alias(\"Station\"),\n",
    "    col(\"Trip_Duration\"),\n",
    "    lit(\"Start\").alias(\"Station Type\")\n",
    ")\n",
    "\n",
    "mapped_end = final_data.withColumn(\"Trip_Duration\", \n",
    "    (unix_timestamp(col(\"End_time\")) - unix_timestamp(col(\"Start_time\"))) / 60\n",
    ").select(\n",
    "    col(\"End Station\").alias(\"Station\"),\n",
    "    col(\"Trip_Duration\"),\n",
    "    lit(\"End\").alias(\"Station Type\")\n",
    ")\n",
    "\n",
    "# 2. Shuffle Phase: Combine Start and End Station Data\n",
    "combined_data = mapped_start.union(mapped_end)\n",
    "\n",
    "# 3. Reduce Phase: Aggregate to Calculate Averages\n",
    "avg_trip_duration_combined = combined_data.groupBy(\"Station\", \"Station Type\").agg(\n",
    "    (sum(\"Trip_Duration\") / count(\"Trip_Duration\")).alias(\"Avg Trip Duration (mins)\")\n",
    ")\n",
    "\n",
    "# 4. Sort Phase: Sort by Average Trip Duration\n",
    "avg_trip_duration_combined = avg_trip_duration_combined.orderBy(col(\"Avg Trip Duration (mins)\").desc())\n",
    "\n",
    "avg_trip_duration_combined.show(5)\n"
   ]
  },
  {
   "cell_type": "markdown",
   "metadata": {},
   "source": [
    "- Analyse how behaviours change between subscriber type"
   ]
  },
  {
   "cell_type": "code",
   "execution_count": 53,
   "metadata": {},
   "outputs": [
    {
     "name": "stdout",
     "output_type": "stream",
     "text": [
      "Total Trips, Average Trip Duration, and Average Temperature by Subscriber Type:\n",
      "+---------------+-----------+-------------------------+------------------------+-------------------+\n",
      "|Subscriber Type|Total Trips|Percentage of total trips|Avg Trip Duration (mins)|Avg Temperature (C)|\n",
      "+---------------+-----------+-------------------------+------------------------+-------------------+\n",
      "|     Subscriber|     310217|                    87.59|                    8.11|              16.15|\n",
      "|       Customer|      43935|                    12.41|                   38.54|              16.65|\n",
      "+---------------+-----------+-------------------------+------------------------+-------------------+\n",
      "\n"
     ]
    }
   ],
   "source": [
    "total_trips = final_data.count()\n",
    "\n",
    "# Group by Subscriber Type and count trips\n",
    "trips_by_user_type = final_data.groupBy(\"Subscriber Type\").count().withColumnRenamed(\"count\", \"Total Trips\")\n",
    "\n",
    "# Add a percentage column to show the proportion of trips for each user type\n",
    "trips_by_user_type = trips_by_user_type.withColumn(\n",
    "    \"Percentage of total trips\",\n",
    "    round((col(\"Total Trips\") / total_trips) * 100, 2)\n",
    ")\n",
    "\n",
    "# Step 2: Calculate Average Trip Duration by Subscriber Type\n",
    "avg_trip_duration_by_user_type = final_data.groupBy(\"Subscriber Type\").agg(\n",
    "    avg(\"Trip_Duration\").alias(\"Avg Trip Duration (mins)\")\n",
    ").withColumn(\n",
    "    \"Avg Trip Duration (mins)\", round(col(\"Avg Trip Duration (mins)\"), 2)\n",
    ")\n",
    "\n",
    "# Step 3: Calculate Average Temperature by Subscriber Type\n",
    "avg_temperature_by_user_type = final_data.groupBy(\"Subscriber Type\").agg(\n",
    "    avg((col(\"Mean TemperatureF\") - 32) * 5 / 9).alias(\"Avg Temperature (C)\")\n",
    ").withColumn(\n",
    "    \"Avg Temperature (C)\", round(col(\"Avg Temperature (C)\"), 2)\n",
    ")\n",
    "\n",
    "# Step 4: Combine All Results\n",
    "result = trips_by_user_type \\\n",
    "    .join(avg_trip_duration_by_user_type, on=\"Subscriber Type\", how=\"inner\") \\\n",
    "    .join(avg_temperature_by_user_type, on=\"Subscriber Type\", how=\"inner\")\n",
    "\n",
    "\n",
    "print(\"Total Trips, Average Trip Duration, and Average Temperature by Subscriber Type:\")\n",
    "result.show()"
   ]
  },
  {
   "cell_type": "code",
   "execution_count": 40,
   "metadata": {},
   "outputs": [
    {
     "name": "stdout",
     "output_type": "stream",
     "text": [
      "Trips by Subscriber Type with Percentage:\n",
      "+---------------+-----------+----------+\n",
      "|Subscriber Type|Total Trips|Percentage|\n",
      "+---------------+-----------+----------+\n",
      "|     Subscriber|     310217|     87.59|\n",
      "|       Customer|      43935|     12.41|\n",
      "+---------------+-----------+----------+\n",
      "\n"
     ]
    }
   ],
   "source": [
    "# 1. Map Phase: Add a column with a constant value 1 to simulate trip counts\n",
    "mapped_data = final_data.withColumn(\"Trip\", lit(1))\n",
    "\n",
    "# 2. Shuffle and Reduce Phase: Group by Subscriber Type and sum the Trip column\n",
    "trips_by_user_type = mapped_data.groupBy(\"Subscriber Type\").agg(\n",
    "    sum(\"Trip\").alias(\"Total Trips\")\n",
    ")\n",
    "\n",
    "# 3. Calculate the total number of trips\n",
    "total_trips = mapped_data.agg(sum(\"Trip\").alias(\"Total Trips\")).collect()[0][\"Total Trips\"]\n",
    "\n",
    "# 4. Add a percentage column\n",
    "trips_by_user_type = trips_by_user_type.withColumn(\n",
    "    \"Percentage\",\n",
    "    round((col(\"Total Trips\") / total_trips) * 100, 2)\n",
    ")\n",
    "\n",
    "print(\"Trips by Subscriber Type with Percentage:\")\n",
    "trips_by_user_type.show()\n"
   ]
  },
  {
   "cell_type": "markdown",
   "metadata": {},
   "source": [
    "- frequency of bike rentals by subscriber type for each hour of the day"
   ]
  },
  {
   "cell_type": "code",
   "execution_count": 57,
   "metadata": {},
   "outputs": [],
   "source": [
    "# Extract hour from Start_time\n",
    "final_data = final_data.withColumn(\"Start_hour\", hour(col(\"Start_time\")))\n",
    "\n",
    "# Group by Subscriber Type and Start_hour\n",
    "peak_hours_by_user_type = final_data.groupBy(\"Subscriber Type\", \"Start_hour\").count().withColumnRenamed(\"count\", \"Total Trips\")"
   ]
  },
  {
   "cell_type": "code",
   "execution_count": 60,
   "metadata": {},
   "outputs": [
    {
     "data": {
      "image/png": "[encoded data removed]",
      "text/plain": [
       "<Figure size 1200x600 with 1 Axes>"
      ]
     },
     "metadata": {},
     "output_type": "display_data"
    }
   ],
   "source": [
    "# Convert the PySpark DataFrame to a Pandas DataFrame\n",
    "peak_hours_df = peak_hours_by_user_type.toPandas()\n",
    "\n",
    "# Pivot the data for visualization\n",
    "pivot_table = peak_hours_df.pivot(index=\"Start_hour\", columns=\"Subscriber Type\", values=\"Total Trips\").fillna(0)\n",
    "\n",
    "# Plot a histogram\n",
    "pivot_table.plot(kind=\"bar\", figsize=(12, 6), width=0.8)\n",
    "\n",
    "# Customize the plot\n",
    "plt.title(\"Frequency of bike rental usage by Subscriber Type\")\n",
    "plt.xlabel(\"Hour of the Day\")\n",
    "plt.ylabel(\"Total Trips\")\n",
    "plt.xticks(rotation=0)\n",
    "plt.yticks(rotation=45)\n",
    "plt.legend(title=\"Subscriber Type\")\n",
    "plt.tight_layout()\n",
    "\n",
    "plt.show()\n"
   ]
  },
  {
   "cell_type": "markdown",
   "metadata": {},
   "source": [
    "try temperature per nr of trips"
   ]
  },
  {
   "cell_type": "code",
   "execution_count": 63,
   "metadata": {},
   "outputs": [
    {
     "name": "stdout",
     "output_type": "stream",
     "text": [
      "+-------+-------------+-----------+---------------+----------+----------+-------------------+-------------------+----------------+-----------------+----------------+--------------+--------------+-------------+------------+-------------+------------+------------------------+-------------------------+------------------------+-------------------+--------------------+-------------------+-----------------+------------------+-----------------+---------------+----------+--------------+-----------------+-----+--------------------+------------------+---------+-----------+----------------+------------------+----------------+---------+-----------+--------------+-----------------+--------------------+-------------+-------------+----------+\n",
      "|Trip ID|Start Station|End Station|Subscriber Type|Start_date|  End_date|         Start_time|           End_time|Max TemperatureF|Mean TemperatureF|Min TemperatureF|Max Dew PointF|MeanDew PointF|Min DewpointF|Max Humidity|Mean Humidity|Min Humidity|Max Sea Level PressureIn|Mean Sea Level PressureIn|Min Sea Level PressureIn|Max VisibilityMiles|Mean VisibilityMiles|Min VisibilityMiles|Max Wind SpeedMPH|Mean Wind SpeedMPH|Max Gust SpeedMPH|PrecipitationIn|CloudCover|WindDirDegrees|           Events|  Zip|  Start_Station_Name|Start_Station_City|Start_Lat| Start_Long|Start_dock_count|  End_Station_Name|End_Station_City|  End_Lat|   End_Long|End_dock_count|Start_weekday_num|Start_weekday_mapped|Start_weekday|Trip_Duration|Start_hour|\n",
      "+-------+-------------+-----------+---------------+----------+----------+-------------------+-------------------+----------------+-----------------+----------------+--------------+--------------+-------------+------------+-------------+------------+------------------------+-------------------------+------------------------+-------------------+--------------------+-------------------+-----------------+------------------+-----------------+---------------+----------+--------------+-----------------+-----+--------------------+------------------+---------+-----------+----------------+------------------+----------------+---------+-----------+--------------+-----------------+--------------------+-------------+-------------+----------+\n",
      "| 910956|           45|         39|     Subscriber|2015-08-29|2015-08-29|2025-01-26 14:20:00|2025-01-26 14:29:00|              76|               71|              65|            66|            62|           57|          87|           73|          58|                   30.01|                    29.98|                   29.93|                 10|                   9|                  3|               21|                11|               25|          0.001|         6|           260|             Rain|94107|Commercial at Mon...|             94107|37.794231|-122.402923|              15|Powell Street BART|           94107|37.783871|-122.408433|            19|                7|                   6|     Saturday|          9.0|        14|\n",
      "| 910916|           67|         76|       Customer|2015-08-29|2015-08-29|2025-01-26 13:17:00|2025-01-26 13:25:00|              76|               71|              65|            66|            62|           57|          87|           73|          58|                   30.01|                    29.98|                   29.93|                 10|                   9|                  3|               21|                11|               25|          0.001|         6|           260|             Rain|94107|      Market at 10th|             94107|37.776619|-122.417385|              27|     Market at 4th|           94107|37.786305|-122.404966|            19|                7|                   6|     Saturday|          8.0|        13|\n",
      "| 879232|           70|         76|     Subscriber|2015-08-06|2015-08-06|2025-01-26 17:48:00|2025-01-26 17:56:00|              72|               65|              58|            58|            57|           54|          93|           77|          61|                   29.93|                    29.87|                    29.8|                 10|                  10|                  7|               21|                 8|               24|          0.001|         5|           309|Rain-Thunderstorm|94107|San Francisco Cal...|             94107|37.776617| -122.39526|              19|     Market at 4th|           94107|37.786305|-122.404966|            19|                5|                   4|     Thursday|          8.0|        17|\n",
      "+-------+-------------+-----------+---------------+----------+----------+-------------------+-------------------+----------------+-----------------+----------------+--------------+--------------+-------------+------------+-------------+------------+------------------------+-------------------------+------------------------+-------------------+--------------------+-------------------+-----------------+------------------+-----------------+---------------+----------+--------------+-----------------+-----+--------------------+------------------+---------+-----------+----------------+------------------+----------------+---------+-----------+--------------+-----------------+--------------------+-------------+-------------+----------+\n",
      "only showing top 3 rows\n",
      "\n"
     ]
    }
   ],
   "source": [
    "final_data.show(3)"
   ]
  },
  {
   "cell_type": "code",
   "execution_count": 73,
   "metadata": {},
   "outputs": [],
   "source": [
    "# Step 1: Convert temperatures to Celsius and bin them\n",
    "final_data = final_data.withColumn(\n",
    "    \"Temperature (C)\", round((col(\"Mean TemperatureF\") - 32) * 5 / 9, 2)\n",
    ")\n",
    "\n",
    "final_data = final_data.withColumn(\n",
    "    \"Temperature Bin\", floor(col(\"Temperature (C)\"))\n",
    ")\n",
    "\n",
    "# Step 2: Calculate the number of trips per temperature bin\n",
    "trips_by_temperature = final_data.groupBy(\"Temperature Bin\").agg(\n",
    "    count(\"Trip ID\").alias(\"Total Trips\")\n",
    ")\n",
    "\n",
    "# Step 3: Calculate the percentage of trips for each temperature bin\n",
    "total_trips = final_data.count()  # Total trips across all bins\n",
    "trips_by_temperature = trips_by_temperature.withColumn(\n",
    "    \"Percentage of Trips\",\n",
    "    round((col(\"Total Trips\") / total_trips) * 100, 2)\n",
    ")\n",
    "\n",
    "# Convert to Pandas for plotting\n",
    "trips_by_temperature_pandas = trips_by_temperature.toPandas()\n"
   ]
  },
  {
   "cell_type": "code",
   "execution_count": 78,
   "metadata": {},
   "outputs": [
    {
     "data": {
      "image/png": "[encoded data removed]",
      "text/plain": [
       "<Figure size 1200x600 with 1 Axes>"
      ]
     },
     "metadata": {},
     "output_type": "display_data"
    }
   ],
   "source": [
    "# Extract data for plotting\n",
    "temperature_bins = trips_by_temperature_pandas[\"Temperature Bin\"]\n",
    "percentage_of_trips = trips_by_temperature_pandas[\"Percentage of Trips\"]\n",
    "\n",
    "# Create a bar chart\n",
    "plt.figure(figsize=(12, 6))\n",
    "plt.bar(temperature_bins, percentage_of_trips, color='violet', edgecolor='black', alpha=0.8)\n",
    "\n",
    "# Add labels and title\n",
    "plt.xlabel(\"Temperature (°C)\")\n",
    "plt.ylabel(\"Percentage of Trips (%)\")\n",
    "plt.title(\"Percentage of Trips by Temperature Bin\")\n",
    "plt.grid(axis='y', linestyle='--', alpha=0.7)\n",
    "plt.show()\n"
   ]
  },
  {
   "cell_type": "markdown",
   "metadata": {},
   "source": [
    "## END OF 1. DATA PREPROCESSING "
   ]
  },
  {
   "cell_type": "markdown",
   "metadata": {},
   "source": [
    "# 2. Station Importance Ranking Using PageRank"
   ]
  },
  {
   "cell_type": "markdown",
   "metadata": {},
   "source": [
    "### Step 2.1. Preprocess the Dataset\n",
    "Let's build the directed graph:\n",
    "\n",
    "Nodes = unique bike stations.\\\n",
    "Edges = directed trips between stations (weighted by the frequency of trips)."
   ]
  },
  {
   "cell_type": "code",
   "execution_count": 12,
   "metadata": {},
   "outputs": [],
   "source": [
    "from pyspark.sql import functions as F\n",
    "\n",
    "# Group by start and end stations to calculate the number of trips (weights)\n",
    "edge_weights = final_data.groupBy(\"Start Station\", \"End Station\") \\\n",
    "    .agg(F.count(\"*\").alias(\"weight\"))\n",
    "\n",
    "# Collect all unique stations (nodes)\n",
    "nodes = edge_weights.select(\"Start Station\").union(edge_weights.select(\"End Station\")).distinct()"
   ]
  },
  {
   "cell_type": "code",
   "execution_count": 13,
   "metadata": {},
   "outputs": [
    {
     "name": "stdout",
     "output_type": "stream",
     "text": [
      "+-------------+-----------+------+\n",
      "|Start Station|End Station|weight|\n",
      "+-------------+-----------+------+\n",
      "|           65|         50|   827|\n",
      "|           62|         87|   137|\n",
      "|           68|         57|   270|\n",
      "|           64|         48|   169|\n",
      "+-------------+-----------+------+\n",
      "only showing top 4 rows\n",
      "\n",
      "None\n"
     ]
    }
   ],
   "source": [
    "print(edge_weights.show(4))"
   ]
  },
  {
   "cell_type": "markdown",
   "metadata": {},
   "source": [
    "#### Step 2.2 Build the Transition Matrix\n",
    "Represent the trips as a transition matrix. Each element 𝑀𝑖𝑗 in the matrix represents the probability of moving from station 𝑗 to station 𝑖.\n",
    "\n",
    "1- Calculate the total outgoing trips for each station.\n",
    "\n",
    "2- Normalize edge weights to get probabilities."
   ]
  },
  {
   "cell_type": "code",
   "execution_count": 14,
   "metadata": {},
   "outputs": [
    {
     "name": "stdout",
     "output_type": "stream",
     "text": [
      "+-------------+-----------+------+------------+-----------+\n",
      "|Start Station|End Station|weight|total_weight|probability|\n",
      "+-------------+-----------+------+------------+-----------+\n",
      "|           65|         50|   827|       13752|     0.0601|\n",
      "|           62|         87|   137|        7999|     0.0171|\n",
      "|           68|         57|   270|        5523|     0.0489|\n",
      "|           64|         48|   169|        9469|     0.0178|\n",
      "|           49|         49|    48|        2202|     0.0218|\n",
      "|            2|         80|    15|        4968|      0.003|\n",
      "|           90|         64|    12|        1848|     0.0065|\n",
      "|           45|         70|   621|        6014|     0.1033|\n",
      "|           32|         27|    49|        1230|     0.0398|\n",
      "|           51|         50|   155|        7596|     0.0204|\n",
      "|           68|         74|   206|        5523|     0.0373|\n",
      "|           10|          2|   295|         832|     0.3546|\n",
      "|           47|         45|   113|        4705|      0.024|\n",
      "|           71|         42|   256|        6425|     0.0398|\n",
      "|           89|         47|    48|        2749|     0.0175|\n",
      "|           88|         56|   174|       11740|     0.0148|\n",
      "|           87|         65|   288|        3372|     0.0854|\n",
      "|           56|         70|  1215|        8359|     0.1454|\n",
      "|           54|         69|   213|        7483|     0.0285|\n",
      "|           16|          3|    15|         494|     0.0304|\n",
      "+-------------+-----------+------+------------+-----------+\n",
      "only showing top 20 rows\n",
      "\n"
     ]
    }
   ],
   "source": [
    "# Calculate total outgoing trips for each station\n",
    "total_outgoing = edge_weights.groupBy(\"Start Station\") \\\n",
    "    .agg(F.sum(\"weight\").alias(\"total_weight\"))\n",
    "\n",
    "# Join with edge weights to calculate probabilities\n",
    "transition_df = edge_weights.join(total_outgoing, on=\"Start Station\") \\\n",
    "    .withColumn(\"probability\", round(F.col(\"weight\") / F.col(\"total_weight\"), 4))\n",
    "\n",
    "# Transition matrix rows: Start Station, End Station, Probability\n",
    "transition_df.show()\n",
    "\n",
    "# weight represents the number of trips from the start station to the end station (frq of trips)\n",
    "# total_weight is the total number of trips from start station to all other stations"
   ]
  },
  {
   "cell_type": "markdown",
   "metadata": {},
   "source": [
    "#### Step 2.3. Implement the PageRank Algorithm\n",
    "Use NumPy to compute PageRank iteratively.\n",
    "\n",
    "Collect the transition_df data into a NumPy matrix."
   ]
  },
  {
   "cell_type": "code",
   "execution_count": 15,
   "metadata": {},
   "outputs": [],
   "source": [
    "import numpy as np\n",
    "\n",
    "# Map stations to indices\n",
    "station_list = nodes.collect()\n",
    "station_to_index = {row[0]: idx for idx, row in enumerate(station_list)}\n",
    "n = len(station_list)  # Total number of stations\n",
    "\n",
    "# Initialize transition matrix with zeros\n",
    "M = np.zeros((n, n))\n",
    "\n",
    "# Fill in the transition probabilities\n",
    "for row in transition_df.collect():\n",
    "    start_idx = station_to_index[row[\"Start Station\"]]\n",
    "    end_idx = station_to_index[row[\"End Station\"]]\n",
    "    M[end_idx, start_idx] = row[\"probability\"]  # Note: M[end][start] for directed edge"
   ]
  },
  {
   "cell_type": "markdown",
   "metadata": {},
   "source": [
    "Initialize the PageRank Vector: use a uniform distribution to start."
   ]
  },
  {
   "cell_type": "code",
   "execution_count": 16,
   "metadata": {},
   "outputs": [],
   "source": [
    "v = np.ones(n) / n  # Uniform distribution"
   ]
  },
  {
   "cell_type": "markdown",
   "metadata": {},
   "source": [
    "Iteratively Compute PageRank:"
   ]
  },
  {
   "cell_type": "code",
   "execution_count": 17,
   "metadata": {},
   "outputs": [],
   "source": [
    "d = 0.85  # Damping factor\n",
    "e = np.ones(n) / n  # Uniform jump vector\n",
    "\n",
    "iterations = 100  # Number of iterations\n",
    "for _ in range(iterations):\n",
    "    v = d * (M @ v) + (1 - d) * e\n"
   ]
  },
  {
   "cell_type": "markdown",
   "metadata": {},
   "source": [
    "Intuition behind v:\\\n",
    "The proportion of time a random biker would spend at station 𝑖 if they took an infinite number of trips.\n",
    "A measure of the station’s connectivity and influence in the network."
   ]
  },
  {
   "cell_type": "markdown",
   "metadata": {},
   "source": [
    "Map the computed PageRank values back to the station names."
   ]
  },
  {
   "cell_type": "code",
   "execution_count": 18,
   "metadata": {},
   "outputs": [
    {
     "name": "stdout",
     "output_type": "stream",
     "text": [
      "Top 10 Stations by PageRank:\n",
      "Station: 2, PageRank: 0.0520\n",
      "Station: 70, PageRank: 0.0487\n",
      "Station: 22, PageRank: 0.0359\n",
      "Station: 28, PageRank: 0.0334\n",
      "Station: 50, PageRank: 0.0266\n",
      "Station: 65, PageRank: 0.0236\n",
      "Station: 61, PageRank: 0.0228\n",
      "Station: 60, PageRank: 0.0225\n",
      "Station: 74, PageRank: 0.0212\n",
      "Station: 4, PageRank: 0.0202\n"
     ]
    }
   ],
   "source": [
    "# Map indices back to station names\n",
    "station_ranks = [(station_list[i][0], rank) for i, rank in enumerate(v)]\n",
    "station_ranks.sort(key=lambda x: x[1], reverse=True)  # Sort by rank (descending)\n",
    "\n",
    "# Display top 10 stations\n",
    "print(\"Top 10 Stations by PageRank:\")\n",
    "for station, rank in station_ranks[:10]:\n",
    "    print(f\"Station: {station}, PageRank: {rank:.4f}\")\n"
   ]
  },
  {
   "cell_type": "markdown",
   "metadata": {},
   "source": [
    "Why is PageRank Useful for Bike Stations?\n",
    "\n",
    "- Identify Hubs: Stations with high PageRank are central hubs where many trips either start or end.\\\n",
    "- Optimize Operations: Knowing which stations are central can help prioritize bike redistribution efforts.\\\n",
    "- User Flow Insights: Understand patterns of user movement and how stations interact within the network.\\\n",
    "- Infrastructure Planning: Focus investments (e.g., adding docks or bikes) on high-importance stations."
   ]
  },
  {
   "cell_type": "markdown",
   "metadata": {},
   "source": [
    "# 3. K-Means"
   ]
  },
  {
   "cell_type": "markdown",
   "metadata": {},
   "source": [
    "Cluster stations based on travel behavior of costumers and external factors like weather, location, and station characteristics."
   ]
  },
  {
   "cell_type": "markdown",
   "metadata": {},
   "source": [
    "1. Data Preparation\n",
    "\n",
    "Extract and preprocess the data to make it suitable for clustering.\\\n",
    "Key Features to Extract:\\\n",
    "\t•\tHourly rental frequency: Number of rentals starting or ending at each station per hour.\\\n",
    "\t•\tWeather conditions: Attributes like temperature, humidity, or precipitation at the time of rentals.\\\n",
    "\t•\tStation location: Latitude and longitude of each station.\\\n",
    "\t•\tDock count: The number of available docks at each station.\\\n",
    "Preprocessing Steps:\\\n",
    "\t•\tNormalize numerical data (e.g., weather variables, dock counts) to bring all features to the same scale.\\\n",
    "\t•\tEncode categorical data, if any, into numerical form.\n"
   ]
  },
  {
   "cell_type": "code",
   "execution_count": 12,
   "metadata": {},
   "outputs": [
    {
     "name": "stdout",
     "output_type": "stream",
     "text": [
      "+-------------+----------+--------------+\n",
      "|Start Station|Start_hour|Hourly Rentals|\n",
      "+-------------+----------+--------------+\n",
      "|           61|        13|          2560|\n",
      "|           39|        11|          2580|\n",
      "|           77|        23|           390|\n",
      "|           28|        16|           580|\n",
      "|            3|        22|            65|\n",
      "+-------------+----------+--------------+\n",
      "only showing top 5 rows\n",
      "\n"
     ]
    }
   ],
   "source": [
    "from pyspark.sql.functions import hour, col\n",
    "\n",
    "# Extract the hour from Start_time in PySpark\n",
    "final_data = final_data.withColumn(\"Start_hour\", hour(col(\"Start_time\")))\n",
    "\n",
    "# Group by Start Station and calculate hourly rentals\n",
    "hourly_rentals = final_data.groupBy(\"Start Station\", \"Start_hour\").count().withColumnRenamed(\"count\", \"Hourly Rentals\")\n",
    "\n",
    "# Show results\n",
    "hourly_rentals.show(5)\n"
   ]
  },
  {
   "cell_type": "code",
   "execution_count": 14,
   "metadata": {},
   "outputs": [
    {
     "name": "stdout",
     "output_type": "stream",
     "text": [
      "+----------+--------------+-------------+-----------------+--------------------+---------+-----------+----------+\n",
      "|Start_hour|Hourly Rentals|Start Station|  Avg Temperature|   Avg Precipitation| Latitude|  Longitude|Dock Count|\n",
      "+----------+--------------+-------------+-----------------+--------------------+---------+-----------+----------+\n",
      "|        13|          2560|           61|71.88289819469836|0.012382648258550236|37.780526|-122.390288|        27|\n",
      "|        11|          2580|           39|71.34022109722079|0.015709636813866907|37.783871|-122.408433|        19|\n",
      "|        23|           390|           77|71.56566913130322| 0.01187650064750958|37.789625|-122.400811|        27|\n",
      "|        16|           580|           28|72.03032167832168| 0.01452704514975415|37.394358|-122.076713|        23|\n",
      "|        22|            65|            3|72.10512687726566|0.010932488360062085|37.330698|-121.888979|        15|\n",
      "+----------+--------------+-------------+-----------------+--------------------+---------+-----------+----------+\n",
      "only showing top 5 rows\n",
      "\n"
     ]
    }
   ],
   "source": [
    "from pyspark.sql.functions import avg\n",
    "\n",
    "# 2. Weather conditions (average temperature, precipitation, etc.)\n",
    "weather_features = final_data.groupBy(\"Start Station\").agg(\n",
    "    avg(\"Max TemperatureF\").alias(\"Avg Temperature\"),\n",
    "    avg(\"PrecipitationIn\").alias(\"Avg Precipitation\")\n",
    ")\n",
    "\n",
    "# 3. Station location (latitude and longitude)\n",
    "station_location = final_data.select(\n",
    "    col(\"Start Station\").alias(\"Station\"),\n",
    "    col(\"Start_Lat\").alias(\"Latitude\"),\n",
    "    col(\"Start_Long\").alias(\"Longitude\"),\n",
    "    col(\"Start_dock_count\").alias(\"Dock Count\")\n",
    ").dropDuplicates()\n",
    "\n",
    "# 4. Combine all features into one DataFrame\n",
    "features = hourly_rentals.join(weather_features, hourly_rentals[\"Start Station\"] == weather_features[\"Start Station\"], \"inner\") \\\n",
    "                         .drop(weather_features[\"Start Station\"])\n",
    "\n",
    "features = features.join(station_location, features[\"Start Station\"] == station_location[\"Station\"], \"inner\") \\\n",
    "                   .drop(station_location[\"Station\"])\n",
    "\n",
    "# Display the extracted features\n",
    "features.show(5)\n"
   ]
  },
  {
   "cell_type": "code",
   "execution_count": 16,
   "metadata": {},
   "outputs": [
    {
     "name": "stdout",
     "output_type": "stream",
     "text": [
      "root\n",
      " |-- Start_hour: integer (nullable = true)\n",
      " |-- Hourly Rentals: long (nullable = false)\n",
      " |-- Start Station: integer (nullable = true)\n",
      " |-- Avg Temperature: double (nullable = true)\n",
      " |-- Avg Precipitation: double (nullable = true)\n",
      " |-- Latitude: double (nullable = true)\n",
      " |-- Longitude: double (nullable = true)\n",
      " |-- Dock Count: integer (nullable = true)\n",
      " |-- Hourly Rentals_normalized: double (nullable = true)\n",
      " |-- Avg Temperature_normalized: double (nullable = true)\n",
      " |-- Avg Precipitation_normalized: double (nullable = true)\n",
      " |-- Latitude_normalized: double (nullable = true)\n",
      " |-- Longitude_normalized: double (nullable = true)\n",
      " |-- Dock Count_normalized: double (nullable = true)\n",
      "\n"
     ]
    }
   ],
   "source": [
    "features.printSchema()"
   ]
  },
  {
   "cell_type": "code",
   "execution_count": 18,
   "metadata": {},
   "outputs": [],
   "source": [
    "from pyspark.sql.functions import col, min, max\n",
    "\n",
    "# Feature columns to normalize\n",
    "feature_columns = [\"Hourly Rentals\", \"Avg Temperature\", \"Avg Precipitation\", \"Latitude\", \"Longitude\", \"Dock Count\"]\n",
    "\n",
    "# Create a dictionary to store min-max values for each feature\n",
    "min_max_values = {}\n",
    "\n",
    "# Compute min and max for each feature\n",
    "for feature in feature_columns:\n",
    "    min_val = features.select(min(col(feature))).first()[0]\n",
    "    max_val = features.select(max(col(feature))).first()[0]\n",
    "    min_max_values[feature] = (min_val, max_val)\n",
    "\n",
    "# Perform normalization for each feature\n",
    "for feature in feature_columns:\n",
    "    min_val, max_val = min_max_values[feature]\n",
    "    normalized_col = ((col(feature) - min_val) / (max_val - min_val)).alias(f\"{feature}_normalized\")\n",
    "    features = features.withColumn(f\"{feature}_normalized\", normalized_col)\n",
    "\n",
    "# Show the dataset with normalized features\n",
    "#features.select(\"Station\", *[f\"{feature}_normalized\" for feature in feature_columns]).show(5)\n"
   ]
  },
  {
   "cell_type": "markdown",
   "metadata": {},
   "source": [
    "confirm all normalized features:"
   ]
  },
  {
   "cell_type": "code",
   "execution_count": 20,
   "metadata": {},
   "outputs": [
    {
     "name": "stdout",
     "output_type": "stream",
     "text": [
      "+-------------------------+--------------------------+\n",
      "|Hourly Rentals_normalized|Avg Temperature_normalized|\n",
      "+-------------------------+--------------------------+\n",
      "|      0.07801526717557251|        0.3290595929133167|\n",
      "|      0.07862595419847328|       0.27992563709472684|\n",
      "|     0.011755725190839695|        0.3003376902244467|\n",
      "|     0.017557251908396947|        0.3424073073546299|\n",
      "|      0.00183206106870229|        0.3491801661264452|\n",
      "+-------------------------+--------------------------+\n",
      "only showing top 5 rows\n",
      "\n"
     ]
    }
   ],
   "source": [
    "features.select(\"Hourly Rentals_normalized\", \"Avg Temperature_normalized\").show(5)"
   ]
  },
  {
   "cell_type": "code",
   "execution_count": 21,
   "metadata": {},
   "outputs": [
    {
     "name": "stdout",
     "output_type": "stream",
     "text": [
      "+--------------------+--------------------+---------------------+\n",
      "| Latitude_normalized|Longitude_normalized|Dock Count_normalized|\n",
      "+--------------------+--------------------+---------------------+\n",
      "|  0.9489640828733784| 0.05292787178848233|                  1.0|\n",
      "|  0.9560056248131726|0.019425596144786395|                  0.5|\n",
      "|  0.9681183400064902| 0.03349858291558382|                  1.0|\n",
      "|  0.1360438533338328|  0.6319014780144178|                 0.75|\n",
      "|0.002033521528800...|  0.9785267861264005|                 0.25|\n",
      "+--------------------+--------------------+---------------------+\n",
      "only showing top 5 rows\n",
      "\n"
     ]
    }
   ],
   "source": [
    "features.select(\"Latitude_normalized\", \"Longitude_normalized\", \"Dock Count_normalized\").show(5)\n"
   ]
  },
  {
   "cell_type": "code",
   "execution_count": 22,
   "metadata": {},
   "outputs": [
    {
     "name": "stdout",
     "output_type": "stream",
     "text": [
      "+----------------------------------------------------------------------------------------------------------+\n",
      "|features                                                                                                  |\n",
      "+----------------------------------------------------------------------------------------------------------+\n",
      "|[0.07801526717557251,0.3290595929133167,0.4650532117668796,0.9489640828733784,0.05292787178848233,1.0]    |\n",
      "|[0.07862595419847328,0.27992563709472684,0.5900044080582953,0.9560056248131726,0.019425596144786395,0.5]  |\n",
      "|[0.011755725190839695,0.3003376902244467,0.44604390396553295,0.9681183400064902,0.03349858291558382,1.0]  |\n",
      "|[0.017557251908396947,0.3424073073546299,0.5455899952347201,0.1360438533338328,0.6319014780144178,0.75]   |\n",
      "|[0.00183206106870229,0.3491801661264452,0.41058978001254776,0.0020335215288003286,0.9785267861264005,0.25]|\n",
      "+----------------------------------------------------------------------------------------------------------+\n",
      "only showing top 5 rows\n",
      "\n"
     ]
    }
   ],
   "source": [
    "from pyspark.ml.feature import VectorAssembler\n",
    "\n",
    "feature_columns = [f\"{feature}_normalized\" for feature in feature_columns]  # List of normalized columns\n",
    "assembler = VectorAssembler(inputCols=feature_columns, outputCol=\"features\")\n",
    "clustered_data = assembler.transform(features)\n",
    "\n",
    "clustered_data.select(\"features\").show(5, truncate=False)\n"
   ]
  }
 ],
 "metadata": {
  "kernelspec": {
   "display_name": "Python 3",
   "language": "python",
   "name": "python3"
  },
  "language_info": {
   "codemirror_mode": {
    "name": "ipython",
    "version": 3
   },
   "file_extension": ".py",
   "mimetype": "text/x-python",
   "name": "python",
   "nbconvert_exporter": "python",
   "pygments_lexer": "ipython3",
   "version": "3.12.0"
  }
 },
 "nbformat": 4,
 "nbformat_minor": 2
}
